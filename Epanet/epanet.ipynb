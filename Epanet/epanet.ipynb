{
 "cells": [
  {
   "cell_type": "markdown",
   "metadata": {},
   "source": [
    "# Lets use Python Toolkit for EPANET\n"
   ]
  },
  {
   "cell_type": "code",
   "execution_count": 8,
   "metadata": {},
   "outputs": [
    {
     "name": "stdout",
     "output_type": "stream",
     "text": [
      "EPANET version 20200 loaded (EPyT version v1.2.1 - Last Update: 09/01/2024).\n"
     ]
    },
    {
     "name": "stderr",
     "output_type": "stream",
     "text": [
      "c:\\Users\\frodi\\AppData\\Local\\Programs\\Python\\Python313\\Lib\\site-packages\\epyt\\epanet.py:14410: UserWarning: Error 200: one or more errors in input file\n",
      "  warnings.warn(errmssg.value.decode())\n",
      "c:\\Users\\frodi\\AppData\\Local\\Programs\\Python\\Python313\\Lib\\site-packages\\epyt\\epanet.py:14410: UserWarning: Error 200: one or more errors in input file\n",
      "  warnings.warn(errmssg.value.decode())\n",
      "c:\\Users\\frodi\\AppData\\Local\\Programs\\Python\\Python313\\Lib\\site-packages\\epyt\\epanet.py:14410: UserWarning: Error 102: no network data available\n",
      "  warnings.warn(errmssg.value.decode())\n",
      "c:\\Users\\frodi\\AppData\\Local\\Programs\\Python\\Python313\\Lib\\site-packages\\epyt\\epanet.py:14410: UserWarning: Error 102: no network data available\n",
      "  warnings.warn(errmssg.value.decode())\n",
      "c:\\Users\\frodi\\AppData\\Local\\Programs\\Python\\Python313\\Lib\\site-packages\\epyt\\epanet.py:14410: UserWarning: Error 102: no network data available\n",
      "  warnings.warn(errmssg.value.decode())\n",
      "c:\\Users\\frodi\\AppData\\Local\\Programs\\Python\\Python313\\Lib\\site-packages\\epyt\\epanet.py:14410: UserWarning: Error 102: no network data available\n",
      "  warnings.warn(errmssg.value.decode())\n",
      "c:\\Users\\frodi\\AppData\\Local\\Programs\\Python\\Python313\\Lib\\site-packages\\epyt\\epanet.py:14410: UserWarning: Error 102: no network data available\n",
      "  warnings.warn(errmssg.value.decode())\n",
      "c:\\Users\\frodi\\AppData\\Local\\Programs\\Python\\Python313\\Lib\\site-packages\\epyt\\epanet.py:14410: UserWarning: Error 102: no network data available\n",
      "  warnings.warn(errmssg.value.decode())\n",
      "c:\\Users\\frodi\\AppData\\Local\\Programs\\Python\\Python313\\Lib\\site-packages\\epyt\\epanet.py:14410: UserWarning: Error 102: no network data available\n",
      "  warnings.warn(errmssg.value.decode())\n",
      "c:\\Users\\frodi\\AppData\\Local\\Programs\\Python\\Python313\\Lib\\site-packages\\epyt\\epanet.py:14410: UserWarning: Error 102: no network data available\n",
      "  warnings.warn(errmssg.value.decode())\n",
      "c:\\Users\\frodi\\AppData\\Local\\Programs\\Python\\Python313\\Lib\\site-packages\\epyt\\epanet.py:14410: UserWarning: Error 102: no network data available\n",
      "  warnings.warn(errmssg.value.decode())\n",
      "c:\\Users\\frodi\\AppData\\Local\\Programs\\Python\\Python313\\Lib\\site-packages\\epyt\\epanet.py:14410: UserWarning: Error 102: no network data available\n",
      "  warnings.warn(errmssg.value.decode())\n",
      "c:\\Users\\frodi\\AppData\\Local\\Programs\\Python\\Python313\\Lib\\site-packages\\epyt\\epanet.py:14410: UserWarning: Error 102: no network data available\n",
      "  warnings.warn(errmssg.value.decode())\n",
      "c:\\Users\\frodi\\AppData\\Local\\Programs\\Python\\Python313\\Lib\\site-packages\\epyt\\epanet.py:14410: UserWarning: Error 102: no network data available\n",
      "  warnings.warn(errmssg.value.decode())\n",
      "c:\\Users\\frodi\\AppData\\Local\\Programs\\Python\\Python313\\Lib\\site-packages\\epyt\\epanet.py:14410: UserWarning: Error 102: no network data available\n",
      "  warnings.warn(errmssg.value.decode())\n",
      "c:\\Users\\frodi\\AppData\\Local\\Programs\\Python\\Python313\\Lib\\site-packages\\epyt\\epanet.py:14410: UserWarning: Error 102: no network data available\n",
      "  warnings.warn(errmssg.value.decode())\n",
      "c:\\Users\\frodi\\AppData\\Local\\Programs\\Python\\Python313\\Lib\\site-packages\\epyt\\epanet.py:14410: UserWarning: Error 102: no network data available\n",
      "  warnings.warn(errmssg.value.decode())\n",
      "c:\\Users\\frodi\\AppData\\Local\\Programs\\Python\\Python313\\Lib\\site-packages\\epyt\\epanet.py:14410: UserWarning: Error 102: no network data available\n",
      "  warnings.warn(errmssg.value.decode())\n",
      "c:\\Users\\frodi\\AppData\\Local\\Programs\\Python\\Python313\\Lib\\site-packages\\epyt\\epanet.py:14410: UserWarning: Error 102: no network data available\n",
      "  warnings.warn(errmssg.value.decode())\n",
      "c:\\Users\\frodi\\AppData\\Local\\Programs\\Python\\Python313\\Lib\\site-packages\\epyt\\epanet.py:14410: UserWarning: Error 102: no network data available\n",
      "  warnings.warn(errmssg.value.decode())\n",
      "c:\\Users\\frodi\\AppData\\Local\\Programs\\Python\\Python313\\Lib\\site-packages\\epyt\\epanet.py:14410: UserWarning: Error 102: no network data available\n",
      "  warnings.warn(errmssg.value.decode())\n",
      "c:\\Users\\frodi\\AppData\\Local\\Programs\\Python\\Python313\\Lib\\site-packages\\epyt\\epanet.py:14410: UserWarning: Error 102: no network data available\n",
      "  warnings.warn(errmssg.value.decode())\n",
      "c:\\Users\\frodi\\AppData\\Local\\Programs\\Python\\Python313\\Lib\\site-packages\\epyt\\epanet.py:14410: UserWarning: Error 102: no network data available\n",
      "  warnings.warn(errmssg.value.decode())\n",
      "c:\\Users\\frodi\\AppData\\Local\\Programs\\Python\\Python313\\Lib\\site-packages\\epyt\\epanet.py:14410: UserWarning: Error 102: no network data available\n",
      "  warnings.warn(errmssg.value.decode())\n",
      "c:\\Users\\frodi\\AppData\\Local\\Programs\\Python\\Python313\\Lib\\site-packages\\epyt\\epanet.py:14410: UserWarning: Error 102: no network data available\n",
      "  warnings.warn(errmssg.value.decode())\n",
      "c:\\Users\\frodi\\AppData\\Local\\Programs\\Python\\Python313\\Lib\\site-packages\\epyt\\epanet.py:14410: UserWarning: Error 102: no network data available\n",
      "  warnings.warn(errmssg.value.decode())\n",
      "c:\\Users\\frodi\\AppData\\Local\\Programs\\Python\\Python313\\Lib\\site-packages\\epyt\\epanet.py:14410: UserWarning: Error 102: no network data available\n",
      "  warnings.warn(errmssg.value.decode())\n",
      "c:\\Users\\frodi\\AppData\\Local\\Programs\\Python\\Python313\\Lib\\site-packages\\epyt\\epanet.py:14410: UserWarning: Error 102: no network data available\n",
      "  warnings.warn(errmssg.value.decode())\n"
     ]
    },
    {
     "ename": "IndexError",
     "evalue": "list index out of range",
     "output_type": "error",
     "traceback": [
      "\u001b[1;31m---------------------------------------------------------------------------\u001b[0m",
      "\u001b[1;31mIndexError\u001b[0m                                Traceback (most recent call last)",
      "\u001b[1;32m~\\AppData\\Local\\Temp\\ipykernel_18052\\3496400896.py\u001b[0m in \u001b[0;36m?\u001b[1;34m()\u001b[0m\n\u001b[0;32m      1\u001b[0m \u001b[1;32mfrom\u001b[0m \u001b[0mepyt\u001b[0m \u001b[1;32mimport\u001b[0m \u001b[0mepanet\u001b[0m\u001b[1;33m\u001b[0m\u001b[1;33m\u001b[0m\u001b[0m\n\u001b[1;32m----> 2\u001b[1;33m \u001b[0md\u001b[0m \u001b[1;33m=\u001b[0m \u001b[0mepanet\u001b[0m\u001b[1;33m(\u001b[0m\u001b[1;34m'Vatnsendi.inp'\u001b[0m\u001b[1;33m)\u001b[0m\u001b[1;33m\u001b[0m\u001b[1;33m\u001b[0m\u001b[0m\n\u001b[0m",
      "\u001b[1;32mc:\\Users\\frodi\\AppData\\Local\\Programs\\Python\\Python313\\Lib\\site-packages\\epyt\\epanet.py\u001b[0m in \u001b[0;36m?\u001b[1;34m(self, version, ph, loadfile, customlib, display_msg, display_warnings, *argv)\u001b[0m\n\u001b[0;32m    690\u001b[0m                 \u001b[0mself\u001b[0m\u001b[1;33m.\u001b[0m\u001b[0mBinTempfile\u001b[0m \u001b[1;33m=\u001b[0m \u001b[0mbinfile\u001b[0m\u001b[1;33m\u001b[0m\u001b[1;33m\u001b[0m\u001b[0m\n\u001b[0;32m    691\u001b[0m                 \u001b[0mself\u001b[0m\u001b[1;33m.\u001b[0m\u001b[0mapi\u001b[0m\u001b[1;33m.\u001b[0m\u001b[0mENopen\u001b[0m\u001b[1;33m(\u001b[0m\u001b[0mself\u001b[0m\u001b[1;33m.\u001b[0m\u001b[0mTempInpFile\u001b[0m\u001b[1;33m,\u001b[0m \u001b[0mrptfile\u001b[0m\u001b[1;33m,\u001b[0m \u001b[0mbinfile\u001b[0m\u001b[1;33m)\u001b[0m\u001b[1;33m\u001b[0m\u001b[1;33m\u001b[0m\u001b[0m\n\u001b[0;32m    692\u001b[0m                 \u001b[1;31m# Parameters\u001b[0m\u001b[1;33m\u001b[0m\u001b[1;33m\u001b[0m\u001b[0m\n\u001b[0;32m    693\u001b[0m                 \u001b[1;32mif\u001b[0m \u001b[1;32mnot\u001b[0m \u001b[0mloadfile\u001b[0m\u001b[1;33m:\u001b[0m\u001b[1;33m\u001b[0m\u001b[1;33m\u001b[0m\u001b[0m\n\u001b[1;32m--> 694\u001b[1;33m                     \u001b[0mself\u001b[0m\u001b[1;33m.\u001b[0m\u001b[0m__getInitParams\u001b[0m\u001b[1;33m(\u001b[0m\u001b[1;33m)\u001b[0m\u001b[1;33m\u001b[0m\u001b[1;33m\u001b[0m\u001b[0m\n\u001b[0m\u001b[0;32m    695\u001b[0m \u001b[1;33m\u001b[0m\u001b[0m\n\u001b[0;32m    696\u001b[0m             \u001b[1;32melif\u001b[0m \u001b[1;33m(\u001b[0m\u001b[0mlen\u001b[0m\u001b[1;33m(\u001b[0m\u001b[0margv\u001b[0m\u001b[1;33m)\u001b[0m \u001b[1;33m==\u001b[0m \u001b[1;36m2\u001b[0m\u001b[1;33m)\u001b[0m \u001b[1;32mand\u001b[0m \u001b[1;33m(\u001b[0m\u001b[0margv\u001b[0m\u001b[1;33m[\u001b[0m\u001b[1;36m1\u001b[0m\u001b[1;33m]\u001b[0m\u001b[1;33m.\u001b[0m\u001b[0mupper\u001b[0m\u001b[1;33m(\u001b[0m\u001b[1;33m)\u001b[0m \u001b[1;33m==\u001b[0m \u001b[1;34m'CREATE'\u001b[0m\u001b[1;33m)\u001b[0m\u001b[1;33m:\u001b[0m\u001b[1;33m\u001b[0m\u001b[1;33m\u001b[0m\u001b[0m\n\u001b[0;32m    697\u001b[0m                 \u001b[0mself\u001b[0m\u001b[1;33m.\u001b[0m\u001b[0mInputFile\u001b[0m \u001b[1;33m=\u001b[0m \u001b[0margv\u001b[0m\u001b[1;33m[\u001b[0m\u001b[1;36m0\u001b[0m\u001b[1;33m]\u001b[0m\u001b[1;33m\u001b[0m\u001b[1;33m\u001b[0m\u001b[0m\n",
      "\u001b[1;32mc:\\Users\\frodi\\AppData\\Local\\Programs\\Python\\Python313\\Lib\\site-packages\\epyt\\epanet.py\u001b[0m in \u001b[0;36m?\u001b[1;34m(self)\u001b[0m\n\u001b[0;32m  10766\u001b[0m         \u001b[0mself\u001b[0m\u001b[1;33m.\u001b[0m\u001b[0mdemModelInfo\u001b[0m \u001b[1;33m=\u001b[0m \u001b[0mself\u001b[0m\u001b[1;33m.\u001b[0m\u001b[0mgetDemandModel\u001b[0m\u001b[1;33m(\u001b[0m\u001b[1;33m)\u001b[0m\u001b[1;33m\u001b[0m\u001b[1;33m\u001b[0m\u001b[0m\n\u001b[0;32m  10767\u001b[0m         \u001b[0mself\u001b[0m\u001b[1;33m.\u001b[0m\u001b[0mlibFunctions\u001b[0m \u001b[1;33m=\u001b[0m \u001b[0mself\u001b[0m\u001b[1;33m.\u001b[0m\u001b[0mgetLibFunctions\u001b[0m\u001b[1;33m(\u001b[0m\u001b[1;33m)\u001b[0m  \u001b[1;31m# EPANET functions in dll\u001b[0m\u001b[1;33m\u001b[0m\u001b[1;33m\u001b[0m\u001b[0m\n\u001b[0;32m  10768\u001b[0m \u001b[1;33m\u001b[0m\u001b[0m\n\u001b[0;32m  10769\u001b[0m         \u001b[0mself\u001b[0m\u001b[1;33m.\u001b[0m\u001b[0mNodesConnectingLinksIndex\u001b[0m \u001b[1;33m=\u001b[0m \u001b[0mself\u001b[0m\u001b[1;33m.\u001b[0m\u001b[0mlinkInfo\u001b[0m\u001b[1;33m[\u001b[0m\u001b[1;34m'NodesConnectingLinksIndex'\u001b[0m\u001b[1;33m]\u001b[0m  \u001b[1;31m# Indices of nodes\u001b[0m\u001b[1;33m\u001b[0m\u001b[1;33m\u001b[0m\u001b[0m\n\u001b[1;32m> 10770\u001b[1;33m         \u001b[0mself\u001b[0m\u001b[1;33m.\u001b[0m\u001b[0mNodesConnectingLinksID\u001b[0m \u001b[1;33m=\u001b[0m \u001b[0mself\u001b[0m\u001b[1;33m.\u001b[0m\u001b[0mgetNodesConnectingLinksID\u001b[0m\u001b[1;33m(\u001b[0m\u001b[1;33m)\u001b[0m  \u001b[1;31m# Name IDs of nodes which connect links\u001b[0m\u001b[1;33m\u001b[0m\u001b[1;33m\u001b[0m\u001b[0m\n\u001b[0m\u001b[0;32m  10771\u001b[0m         \u001b[1;31m# which connect links\u001b[0m\u001b[1;33m\u001b[0m\u001b[1;33m\u001b[0m\u001b[0m\n\u001b[0;32m  10772\u001b[0m         \u001b[0mself\u001b[0m\u001b[1;33m.\u001b[0m\u001b[0mnodeInfo\u001b[0m \u001b[1;33m=\u001b[0m \u001b[0mself\u001b[0m\u001b[1;33m.\u001b[0m\u001b[0mgetNodesInfo\u001b[0m\u001b[1;33m(\u001b[0m\u001b[1;33m)\u001b[0m\u001b[1;33m.\u001b[0m\u001b[0mto_dict\u001b[0m\u001b[1;33m(\u001b[0m\u001b[1;33m)\u001b[0m\u001b[1;33m\u001b[0m\u001b[1;33m\u001b[0m\u001b[0m\n\u001b[0;32m  10773\u001b[0m         \u001b[0mself\u001b[0m\u001b[1;33m.\u001b[0m\u001b[0mNodeElevations\u001b[0m \u001b[1;33m=\u001b[0m \u001b[0mself\u001b[0m\u001b[1;33m.\u001b[0m\u001b[0mnodeInfo\u001b[0m\u001b[1;33m[\u001b[0m\u001b[1;34m'NodeElevations'\u001b[0m\u001b[1;33m]\u001b[0m  \u001b[1;31m# Elevations of nodes\u001b[0m\u001b[1;33m\u001b[0m\u001b[1;33m\u001b[0m\u001b[0m\n",
      "\u001b[1;32mc:\\Users\\frodi\\AppData\\Local\\Programs\\Python\\Python313\\Lib\\site-packages\\epyt\\epanet.py\u001b[0m in \u001b[0;36m?\u001b[1;34m(self, *argv)\u001b[0m\n\u001b[0;32m   4749\u001b[0m \u001b[1;33m\u001b[0m\u001b[0m\n\u001b[0;32m   4750\u001b[0m         \u001b[0mSee\u001b[0m \u001b[0malso\u001b[0m \u001b[0mgetLinkNodesIndex\u001b[0m\u001b[1;33m.\u001b[0m\u001b[1;33m\u001b[0m\u001b[1;33m\u001b[0m\u001b[0m\n\u001b[0;32m   4751\u001b[0m         \"\"\"\n\u001b[0;32m   4752\u001b[0m         \u001b[0mindices\u001b[0m \u001b[1;33m=\u001b[0m \u001b[0mself\u001b[0m\u001b[1;33m.\u001b[0m\u001b[0m__getLinkIndices\u001b[0m\u001b[1;33m(\u001b[0m\u001b[1;33m*\u001b[0m\u001b[0margv\u001b[0m\u001b[1;33m)\u001b[0m\u001b[1;33m\u001b[0m\u001b[1;33m\u001b[0m\u001b[0m\n\u001b[1;32m-> 4753\u001b[1;33m         \u001b[0mvalues\u001b[0m \u001b[1;33m=\u001b[0m \u001b[0mself\u001b[0m\u001b[1;33m.\u001b[0m\u001b[0mgetLinkNodesIndex\u001b[0m\u001b[1;33m(\u001b[0m\u001b[0mindices\u001b[0m\u001b[1;33m)\u001b[0m\u001b[1;33m\u001b[0m\u001b[1;33m\u001b[0m\u001b[0m\n\u001b[0m\u001b[0;32m   4754\u001b[0m         \u001b[0mconn_vals\u001b[0m \u001b[1;33m=\u001b[0m \u001b[1;33m[\u001b[0m\u001b[1;33m]\u001b[0m\u001b[1;33m\u001b[0m\u001b[1;33m\u001b[0m\u001b[0m\n\u001b[0;32m   4755\u001b[0m         \u001b[1;32mfor\u001b[0m \u001b[0mvalue\u001b[0m \u001b[1;32min\u001b[0m \u001b[0mvalues\u001b[0m\u001b[1;33m:\u001b[0m\u001b[1;33m\u001b[0m\u001b[1;33m\u001b[0m\u001b[0m\n\u001b[0;32m   4756\u001b[0m             \u001b[0mconn_vals\u001b[0m\u001b[1;33m.\u001b[0m\u001b[0mappend\u001b[0m\u001b[1;33m(\u001b[0m\u001b[0mself\u001b[0m\u001b[1;33m.\u001b[0m\u001b[0mgetNodeNameID\u001b[0m\u001b[1;33m(\u001b[0m\u001b[0mvalue\u001b[0m\u001b[1;33m.\u001b[0m\u001b[0mtolist\u001b[0m\u001b[1;33m(\u001b[0m\u001b[1;33m)\u001b[0m\u001b[1;33m)\u001b[0m\u001b[1;33m)\u001b[0m\u001b[1;33m\u001b[0m\u001b[1;33m\u001b[0m\u001b[0m\n",
      "\u001b[1;32mc:\\Users\\frodi\\AppData\\Local\\Programs\\Python\\Python313\\Lib\\site-packages\\epyt\\epanet.py\u001b[0m in \u001b[0;36m?\u001b[1;34m(self, *argv)\u001b[0m\n\u001b[0;32m   3952\u001b[0m         \u001b[0md\u001b[0m\u001b[1;33m.\u001b[0m\u001b[0mgetLinkNodesIndex\u001b[0m\u001b[1;33m(\u001b[0m\u001b[1;36m2\u001b[0m\u001b[1;33m)\u001b[0m    \u001b[1;31m# Link index\u001b[0m\u001b[1;33m\u001b[0m\u001b[1;33m\u001b[0m\u001b[0m\n\u001b[0;32m   3953\u001b[0m \u001b[1;33m\u001b[0m\u001b[0m\n\u001b[0;32m   3954\u001b[0m         \u001b[0mSee\u001b[0m \u001b[0malso\u001b[0m \u001b[0mgetNodesConnectingLinksID\u001b[0m\u001b[1;33m.\u001b[0m\u001b[1;33m\u001b[0m\u001b[1;33m\u001b[0m\u001b[0m\n\u001b[0;32m   3955\u001b[0m         \"\"\"\n\u001b[1;32m-> 3956\u001b[1;33m         \u001b[0mindices\u001b[0m \u001b[1;33m=\u001b[0m \u001b[0mself\u001b[0m\u001b[1;33m.\u001b[0m\u001b[0m__getLinkIndices\u001b[0m\u001b[1;33m(\u001b[0m\u001b[1;33m*\u001b[0m\u001b[0margv\u001b[0m\u001b[1;33m)\u001b[0m\u001b[1;33m\u001b[0m\u001b[1;33m\u001b[0m\u001b[0m\n\u001b[0m\u001b[0;32m   3957\u001b[0m         \u001b[0mvalue\u001b[0m\u001b[1;33m:\u001b[0m \u001b[0mlist\u001b[0m\u001b[1;33m[\u001b[0m\u001b[0mlist\u001b[0m\u001b[1;33m[\u001b[0m\u001b[0mint\u001b[0m\u001b[1;33m]\u001b[0m\u001b[1;33m]\u001b[0m \u001b[1;33m=\u001b[0m \u001b[1;33m[\u001b[0m\u001b[1;33m]\u001b[0m\u001b[1;33m\u001b[0m\u001b[1;33m\u001b[0m\u001b[0m\n\u001b[0;32m   3958\u001b[0m         \u001b[1;32mfor\u001b[0m \u001b[0mi\u001b[0m \u001b[1;32min\u001b[0m \u001b[0mindices\u001b[0m\u001b[1;33m:\u001b[0m\u001b[1;33m\u001b[0m\u001b[1;33m\u001b[0m\u001b[0m\n\u001b[0;32m   3959\u001b[0m             \u001b[0mvalue\u001b[0m\u001b[1;33m.\u001b[0m\u001b[0mappend\u001b[0m\u001b[1;33m(\u001b[0m\u001b[0mself\u001b[0m\u001b[1;33m.\u001b[0m\u001b[0mapi\u001b[0m\u001b[1;33m.\u001b[0m\u001b[0mENgetlinknodes\u001b[0m\u001b[1;33m(\u001b[0m\u001b[0mi\u001b[0m\u001b[1;33m)\u001b[0m\u001b[1;33m)\u001b[0m\u001b[1;33m\u001b[0m\u001b[1;33m\u001b[0m\u001b[0m\n",
      "\u001b[1;32mc:\\Users\\frodi\\AppData\\Local\\Programs\\Python\\Python313\\Lib\\site-packages\\epyt\\epanet.py\u001b[0m in \u001b[0;36m?\u001b[1;34m(self, *argv)\u001b[0m\n\u001b[0;32m  10904\u001b[0m     \u001b[1;32mdef\u001b[0m \u001b[0m__getLinkIndices\u001b[0m\u001b[1;33m(\u001b[0m\u001b[0mself\u001b[0m\u001b[1;33m,\u001b[0m \u001b[1;33m*\u001b[0m\u001b[0margv\u001b[0m\u001b[1;33m)\u001b[0m\u001b[1;33m:\u001b[0m\u001b[1;33m\u001b[0m\u001b[1;33m\u001b[0m\u001b[0m\n\u001b[0;32m  10905\u001b[0m         \u001b[1;32mif\u001b[0m \u001b[0mlen\u001b[0m\u001b[1;33m(\u001b[0m\u001b[0margv\u001b[0m\u001b[1;33m)\u001b[0m \u001b[1;33m>\u001b[0m \u001b[1;36m0\u001b[0m\u001b[1;33m:\u001b[0m\u001b[1;33m\u001b[0m\u001b[1;33m\u001b[0m\u001b[0m\n\u001b[0;32m  10906\u001b[0m             \u001b[1;32mif\u001b[0m \u001b[0misinstance\u001b[0m\u001b[1;33m(\u001b[0m\u001b[0margv\u001b[0m\u001b[1;33m[\u001b[0m\u001b[1;36m0\u001b[0m\u001b[1;33m]\u001b[0m\u001b[1;33m,\u001b[0m \u001b[0mlist\u001b[0m\u001b[1;33m)\u001b[0m\u001b[1;33m:\u001b[0m\u001b[1;33m\u001b[0m\u001b[1;33m\u001b[0m\u001b[0m\n\u001b[1;32m> 10907\u001b[1;33m                 \u001b[1;32mif\u001b[0m \u001b[0misinstance\u001b[0m\u001b[1;33m(\u001b[0m\u001b[0margv\u001b[0m\u001b[1;33m[\u001b[0m\u001b[1;36m0\u001b[0m\u001b[1;33m]\u001b[0m\u001b[1;33m[\u001b[0m\u001b[1;36m0\u001b[0m\u001b[1;33m]\u001b[0m\u001b[1;33m,\u001b[0m \u001b[0mstr\u001b[0m\u001b[1;33m)\u001b[0m\u001b[1;33m:\u001b[0m\u001b[1;33m\u001b[0m\u001b[1;33m\u001b[0m\u001b[0m\n\u001b[0m\u001b[0;32m  10908\u001b[0m                     \u001b[1;32mreturn\u001b[0m \u001b[0mself\u001b[0m\u001b[1;33m.\u001b[0m\u001b[0mgetLinkIndex\u001b[0m\u001b[1;33m(\u001b[0m\u001b[0margv\u001b[0m\u001b[1;33m[\u001b[0m\u001b[1;36m0\u001b[0m\u001b[1;33m]\u001b[0m\u001b[1;33m)\u001b[0m\u001b[1;33m\u001b[0m\u001b[1;33m\u001b[0m\u001b[0m\n\u001b[0;32m  10909\u001b[0m                 \u001b[1;32melse\u001b[0m\u001b[1;33m:\u001b[0m\u001b[1;33m\u001b[0m\u001b[1;33m\u001b[0m\u001b[0m\n\u001b[0;32m  10910\u001b[0m                     \u001b[1;32mreturn\u001b[0m \u001b[0margv\u001b[0m\u001b[1;33m[\u001b[0m\u001b[1;36m0\u001b[0m\u001b[1;33m]\u001b[0m\u001b[1;33m\u001b[0m\u001b[1;33m\u001b[0m\u001b[0m\n",
      "\u001b[1;31mIndexError\u001b[0m: list index out of range"
     ]
    }
   ],
   "source": [
    "from epyt import epanet\n",
    "d = epanet('Vatnsendi.inp')"
   ]
  },
  {
   "cell_type": "code",
   "execution_count": 7,
   "metadata": {},
   "outputs": [
    {
     "name": "stderr",
     "output_type": "stream",
     "text": [
      "c:\\Users\\frodi\\AppData\\Local\\Programs\\Python\\Python313\\Lib\\site-packages\\epyt\\epanet.py:14410: UserWarning: Error 102: no network data available\n",
      "  warnings.warn(errmssg.value.decode())\n",
      "c:\\Users\\frodi\\AppData\\Local\\Programs\\Python\\Python313\\Lib\\site-packages\\epyt\\epanet.py:14410: UserWarning: Error 102: no network data available\n",
      "  warnings.warn(errmssg.value.decode())\n",
      "c:\\Users\\frodi\\AppData\\Local\\Programs\\Python\\Python313\\Lib\\site-packages\\epyt\\epanet.py:14410: UserWarning: Error 102: no network data available\n",
      "  warnings.warn(errmssg.value.decode())\n",
      "c:\\Users\\frodi\\AppData\\Local\\Programs\\Python\\Python313\\Lib\\site-packages\\epyt\\epanet.py:14410: UserWarning: Error 102: no network data available\n",
      "  warnings.warn(errmssg.value.decode())\n"
     ]
    },
    {
     "ename": "Exception",
     "evalue": "Not enough network nodes/links.",
     "output_type": "error",
     "traceback": [
      "\u001b[1;31m---------------------------------------------------------------------------\u001b[0m",
      "\u001b[1;31mException\u001b[0m                                 Traceback (most recent call last)",
      "\u001b[1;32m~\\AppData\\Local\\Temp\\ipykernel_18052\\4170072290.py\u001b[0m in \u001b[0;36m?\u001b[1;34m()\u001b[0m\n\u001b[0;32m      1\u001b[0m \u001b[1;31m# Plot network topology\u001b[0m\u001b[1;33m\u001b[0m\u001b[1;33m\u001b[0m\u001b[0m\n\u001b[1;32m----> 2\u001b[1;33m \u001b[0md\u001b[0m\u001b[1;33m.\u001b[0m\u001b[0mplot\u001b[0m\u001b[1;33m(\u001b[0m\u001b[1;33m)\u001b[0m\u001b[1;33m\u001b[0m\u001b[1;33m\u001b[0m\u001b[0m\n\u001b[0m",
      "\u001b[1;32mc:\\Users\\frodi\\AppData\\Local\\Programs\\Python\\Python313\\Lib\\site-packages\\epyt\\epanet.py\u001b[0m in \u001b[0;36m?\u001b[1;34m(self, title, line, point, nodesID, nodesindex, linksID, linksindex, highlightlink, highlightnode, legend, fontsize, figure, fig_size, dpi, node_values, node_text, link_values, link_text, colorbar, min_colorbar, max_colorbar, colors, colorbar_label, highligthlink_linewidth, highligthnode_linewidth, *argv)\u001b[0m\n\u001b[0;32m  10152\u001b[0m         \u001b[1;31m# get info from EN functions\u001b[0m\u001b[1;33m\u001b[0m\u001b[1;33m\u001b[0m\u001b[0m\n\u001b[0;32m  10153\u001b[0m         \u001b[0mnodenameid\u001b[0m \u001b[1;33m=\u001b[0m \u001b[0mself\u001b[0m\u001b[1;33m.\u001b[0m\u001b[0mgetNodeNameID\u001b[0m\u001b[1;33m(\u001b[0m\u001b[1;33m)\u001b[0m\u001b[1;33m\u001b[0m\u001b[1;33m\u001b[0m\u001b[0m\n\u001b[0;32m  10154\u001b[0m         \u001b[0mlinknameid\u001b[0m \u001b[1;33m=\u001b[0m \u001b[0mself\u001b[0m\u001b[1;33m.\u001b[0m\u001b[0mgetLinkNameID\u001b[0m\u001b[1;33m(\u001b[0m\u001b[1;33m)\u001b[0m\u001b[1;33m\u001b[0m\u001b[1;33m\u001b[0m\u001b[0m\n\u001b[0;32m  10155\u001b[0m         \u001b[1;32mif\u001b[0m \u001b[0mlen\u001b[0m\u001b[1;33m(\u001b[0m\u001b[0mnodenameid\u001b[0m\u001b[1;33m)\u001b[0m \u001b[1;33m==\u001b[0m \u001b[1;36m0\u001b[0m \u001b[1;32mor\u001b[0m \u001b[0mlen\u001b[0m\u001b[1;33m(\u001b[0m\u001b[0mlinknameid\u001b[0m\u001b[1;33m)\u001b[0m \u001b[1;33m==\u001b[0m \u001b[1;36m0\u001b[0m\u001b[1;33m:\u001b[0m\u001b[1;33m\u001b[0m\u001b[1;33m\u001b[0m\u001b[0m\n\u001b[1;32m> 10156\u001b[1;33m             \u001b[1;32mraise\u001b[0m \u001b[0mException\u001b[0m\u001b[1;33m(\u001b[0m\u001b[1;34m'Not enough network nodes/links.'\u001b[0m\u001b[1;33m)\u001b[0m\u001b[1;33m\u001b[0m\u001b[1;33m\u001b[0m\u001b[0m\n\u001b[0m\u001b[0;32m  10157\u001b[0m         \u001b[0mnodeconlinkIndex\u001b[0m \u001b[1;33m=\u001b[0m \u001b[0mself\u001b[0m\u001b[1;33m.\u001b[0m\u001b[0mgetNodesConnectingLinksIndex\u001b[0m\u001b[1;33m(\u001b[0m\u001b[1;33m)\u001b[0m\u001b[1;33m\u001b[0m\u001b[1;33m\u001b[0m\u001b[0m\n\u001b[0;32m  10158\u001b[0m         \u001b[0mpumpindex\u001b[0m \u001b[1;33m=\u001b[0m \u001b[0mself\u001b[0m\u001b[1;33m.\u001b[0m\u001b[0mgetLinkPumpIndex\u001b[0m\u001b[1;33m(\u001b[0m\u001b[1;33m)\u001b[0m\u001b[1;33m\u001b[0m\u001b[1;33m\u001b[0m\u001b[0m\n\u001b[0;32m  10159\u001b[0m         \u001b[0mpipeindex\u001b[0m \u001b[1;33m=\u001b[0m \u001b[0mself\u001b[0m\u001b[1;33m.\u001b[0m\u001b[0mgetLinkPipeIndex\u001b[0m\u001b[1;33m(\u001b[0m\u001b[1;33m)\u001b[0m\u001b[1;33m\u001b[0m\u001b[1;33m\u001b[0m\u001b[0m\n",
      "\u001b[1;31mException\u001b[0m: Not enough network nodes/links."
     ]
    }
   ],
   "source": [
    "# Plot network topology\n",
    "d.plot()"
   ]
  },
  {
   "cell_type": "code",
   "execution_count": null,
   "metadata": {},
   "outputs": [],
   "source": []
  }
 ],
 "metadata": {
  "kernelspec": {
   "display_name": "Python 3",
   "language": "python",
   "name": "python3"
  },
  "language_info": {
   "codemirror_mode": {
    "name": "ipython",
    "version": 3
   },
   "file_extension": ".py",
   "mimetype": "text/x-python",
   "name": "python",
   "nbconvert_exporter": "python",
   "pygments_lexer": "ipython3",
   "version": "3.13.2"
  }
 },
 "nbformat": 4,
 "nbformat_minor": 2
}
