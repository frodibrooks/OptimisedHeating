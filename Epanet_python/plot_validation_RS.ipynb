{
 "cells": [
  {
   "cell_type": "code",
   "execution_count": 2,
   "id": "79dfedfe",
   "metadata": {},
   "outputs": [],
   "source": [
    "import numpy as np\n",
    "import pandas as pd\n",
    "import matplotlib as plt\n",
    "import os "
   ]
  },
  {
   "cell_type": "markdown",
   "id": "579bd811",
   "metadata": {},
   "source": [
    "# Lets move dir to where the data is stored"
   ]
  },
  {
   "cell_type": "code",
   "execution_count": 18,
   "id": "85791798",
   "metadata": {},
   "outputs": [
    {
     "name": "stdout",
     "output_type": "stream",
     "text": [
      "['rs_sim_flow.csv', 'VE_nedri_actual_power.csv', 'flow_values_VE_nedri.csv', 'VE_efri_actual_energy.csv', 'RS_energy_sim.csv', 'rjupnasalir_two_pumps_actual.csv', 'VE_pumps_sim.csv', 'flow_values_VE_efri.csv', 'VE_nedri_flow_sim.csv', 'rs_actual_flow.csv', 'rs_sim_energy.csv', 'flow_VE_efri_sim.csv', 'VE_nedri_pumps_energy_sim.csv']\n"
     ]
    }
   ],
   "source": [
    "path = \"/Users/frodibrooks/Desktop/DTU/Thesis/OptimisedHeating/Epanet_python/validation_data\" # mac\n",
    "# path = r\"C:\\Users\\frodi\\Documents\\OptimisedHeating\\Epanet_python\\validation_data\" # windows\n",
    "\n",
    "os.chdir(path)\n",
    "\n",
    "print(os.listdir())"
   ]
  },
  {
   "cell_type": "markdown",
   "id": "bc2c0073",
   "metadata": {},
   "source": [
    "# Lets load data"
   ]
  },
  {
   "cell_type": "code",
   "execution_count": 11,
   "id": "47ee6cc7",
   "metadata": {},
   "outputs": [
    {
     "name": "stdout",
     "output_type": "stream",
     "text": [
      "    VE_efri_actual_flow\n",
      "0                 57.07\n",
      "1                 56.55\n",
      "2                 55.77\n",
      "3                 55.86\n",
      "4                 55.47\n",
      "5                 55.08\n",
      "6                 55.98\n",
      "7                 56.13\n",
      "8                 57.63\n",
      "9                 59.15\n",
      "10                59.36\n",
      "11                58.96\n",
      "12                57.73\n",
      "13                56.57\n",
      "14                55.24\n",
      "15                55.92\n",
      "16                56.93\n",
      "17                58.48\n",
      "18                58.44\n",
      "19                56.41\n",
      "20                54.18\n",
      "21                51.82\n"
     ]
    }
   ],
   "source": [
    "RS_flow = pd.read_csv(\"rs_actual_flow.csv\")\n",
    "RS_flow = RS_flow.copy()\n",
    "RS_flow = RS_flow.drop(columns=[\"start_time\"])\n",
    "RS_flow = RS_flow.rename(columns={\"value\" : \"VE_efri_actual_flow\"})\n",
    "\n",
    "RS_flow = RS_flow[:22]\n",
    "\n",
    "\n",
    "print(RS_flow)"
   ]
  },
  {
   "cell_type": "code",
   "execution_count": 14,
   "id": "a7d85b3a",
   "metadata": {},
   "outputs": [
    {
     "name": "stdout",
     "output_type": "stream",
     "text": [
      "    RS_actual_power\n",
      "0         22.420542\n",
      "1         22.144892\n",
      "2         21.904121\n",
      "3         21.629350\n",
      "4         21.719074\n",
      "5         21.664591\n",
      "6         21.455913\n",
      "7         21.745120\n",
      "8         21.871864\n",
      "9         22.256314\n",
      "10        22.706521\n",
      "11        22.753035\n",
      "12        22.758789\n",
      "13        22.344508\n",
      "14        21.994912\n",
      "15        21.554324\n",
      "16        21.797028\n",
      "17        22.126756\n",
      "18        22.551423\n",
      "19        22.551804\n",
      "20        21.962070\n",
      "21        21.243678\n"
     ]
    }
   ],
   "source": [
    "RS_power = pd.read_csv(\"rjupnasalir_two_pumps_actual.csv\")\n",
    "RS_power = RS_power.drop(columns=[\"start_time\",\"mpoint_id\"])\n",
    "RS_power = RS_power.rename(columns={\"value\" : \"RS_actual_power\"})\n",
    "\n",
    "RS_power = RS_power[:22]\n",
    "\n",
    "print(RS_power)\n"
   ]
  },
  {
   "cell_type": "code",
   "execution_count": 16,
   "id": "fc8b3b8e",
   "metadata": {},
   "outputs": [
    {
     "name": "stdout",
     "output_type": "stream",
     "text": [
      "    RS_simulated_flow\n",
      "0           17.788370\n",
      "1           17.506588\n",
      "2           17.080254\n",
      "3           16.915461\n",
      "4           16.700190\n",
      "5           17.195374\n",
      "6           17.277519\n",
      "7           18.089672\n",
      "8           17.426559\n",
      "9           18.896891\n",
      "10          19.007257\n",
      "11          18.796782\n",
      "12          18.143236\n",
      "13          17.517450\n",
      "14          16.788702\n",
      "15          17.162493\n",
      "16          17.712709\n",
      "17          18.542917\n",
      "18          18.521696\n",
      "19          17.430395\n",
      "20          16.199520\n",
      "21          14.836743\n"
     ]
    }
   ],
   "source": [
    "RS_flow_sim = pd.read_csv(\"rs_sim_flow.csv\")\n",
    "RS_flow_sim = RS_flow_sim.drop(columns = [\"Time (hrs)\"])\n",
    "RS_flow_sim = RS_flow_sim.rename(columns={\"Flow Pipe-62614 (LPS)\" : \"RS_simulated_flow\"})\n",
    "\n",
    "print(RS_flow_sim)\n"
   ]
  },
  {
   "cell_type": "code",
   "execution_count": 20,
   "id": "03be0520",
   "metadata": {},
   "outputs": [
    {
     "name": "stdout",
     "output_type": "stream",
     "text": [
      "    RS_simulated_power\n",
      "0            23.195690\n",
      "1            23.045263\n",
      "2            22.820494\n",
      "3            22.734198\n",
      "4            22.622261\n",
      "5            22.880930\n",
      "6            22.924112\n",
      "7            23.358192\n",
      "8            23.002819\n",
      "9            23.801645\n",
      "10           23.863180\n",
      "11           23.746040\n",
      "12           23.387260\n",
      "13           23.051033\n",
      "14           22.668133\n",
      "15           22.863670\n",
      "16           23.155148\n",
      "17           23.605774\n",
      "18           23.594097\n",
      "19           23.004848\n",
      "20           22.364874\n",
      "21           21.704576\n"
     ]
    }
   ],
   "source": [
    "RS_power_sim = pd.read_csv(\"RS_energy_sim.csv\")\n",
    "RS_power_sim = RS_power_sim.drop(columns = [\"Time (hrs)\", \"Rjúpnasalir 2 (kW)\"])\n",
    "RS_power_sim = RS_power_sim.rename(columns={\"Rjúpnasalir 1 (kW)\": \"RS_simulated_power\"})\n",
    "\n",
    "print(RS_power_sim)\n"
   ]
  },
  {
   "cell_type": "code",
   "execution_count": 21,
   "id": "a1571733",
   "metadata": {},
   "outputs": [
    {
     "data": {
      "text/html": [
       "<div>\n",
       "<style scoped>\n",
       "    .dataframe tbody tr th:only-of-type {\n",
       "        vertical-align: middle;\n",
       "    }\n",
       "\n",
       "    .dataframe tbody tr th {\n",
       "        vertical-align: top;\n",
       "    }\n",
       "\n",
       "    .dataframe thead th {\n",
       "        text-align: right;\n",
       "    }\n",
       "</style>\n",
       "<table border=\"1\" class=\"dataframe\">\n",
       "  <thead>\n",
       "    <tr style=\"text-align: right;\">\n",
       "      <th></th>\n",
       "      <th>VE_efri_actual_flow</th>\n",
       "      <th>RS_actual_power</th>\n",
       "      <th>RS_simulated_flow</th>\n",
       "      <th>RS_simulated_power</th>\n",
       "    </tr>\n",
       "  </thead>\n",
       "  <tbody>\n",
       "    <tr>\n",
       "      <th>0</th>\n",
       "      <td>57.07</td>\n",
       "      <td>22.420542</td>\n",
       "      <td>17.788370</td>\n",
       "      <td>23.195690</td>\n",
       "    </tr>\n",
       "    <tr>\n",
       "      <th>1</th>\n",
       "      <td>56.55</td>\n",
       "      <td>22.144892</td>\n",
       "      <td>17.506588</td>\n",
       "      <td>23.045263</td>\n",
       "    </tr>\n",
       "    <tr>\n",
       "      <th>2</th>\n",
       "      <td>55.77</td>\n",
       "      <td>21.904121</td>\n",
       "      <td>17.080254</td>\n",
       "      <td>22.820494</td>\n",
       "    </tr>\n",
       "    <tr>\n",
       "      <th>3</th>\n",
       "      <td>55.86</td>\n",
       "      <td>21.629350</td>\n",
       "      <td>16.915461</td>\n",
       "      <td>22.734198</td>\n",
       "    </tr>\n",
       "    <tr>\n",
       "      <th>4</th>\n",
       "      <td>55.47</td>\n",
       "      <td>21.719074</td>\n",
       "      <td>16.700190</td>\n",
       "      <td>22.622261</td>\n",
       "    </tr>\n",
       "  </tbody>\n",
       "</table>\n",
       "</div>"
      ],
      "text/plain": [
       "   VE_efri_actual_flow  RS_actual_power  RS_simulated_flow  RS_simulated_power\n",
       "0                57.07        22.420542          17.788370           23.195690\n",
       "1                56.55        22.144892          17.506588           23.045263\n",
       "2                55.77        21.904121          17.080254           22.820494\n",
       "3                55.86        21.629350          16.915461           22.734198\n",
       "4                55.47        21.719074          16.700190           22.622261"
      ]
     },
     "execution_count": 21,
     "metadata": {},
     "output_type": "execute_result"
    }
   ],
   "source": [
    "VE_nedri_df = pd.concat([RS_flow,RS_power,RS_flow_sim,RS_power_sim], axis=1)\n",
    "VE_nedri_df.head()"
   ]
  },
  {
   "cell_type": "code",
   "execution_count": 9,
   "id": "1a4664fa",
   "metadata": {},
   "outputs": [
    {
     "data": {
      "text/html": [
       "<div>\n",
       "<style scoped>\n",
       "    .dataframe tbody tr th:only-of-type {\n",
       "        vertical-align: middle;\n",
       "    }\n",
       "\n",
       "    .dataframe tbody tr th {\n",
       "        vertical-align: top;\n",
       "    }\n",
       "\n",
       "    .dataframe thead th {\n",
       "        text-align: right;\n",
       "    }\n",
       "</style>\n",
       "<table border=\"1\" class=\"dataframe\">\n",
       "  <thead>\n",
       "    <tr style=\"text-align: right;\">\n",
       "      <th></th>\n",
       "      <th>start_time</th>\n",
       "      <th>value</th>\n",
       "      <th>VE_efri_actual_power</th>\n",
       "      <th>VE_efri_simulated_flow</th>\n",
       "      <th>VE_efri_simulated_power</th>\n",
       "    </tr>\n",
       "  </thead>\n",
       "  <tbody>\n",
       "    <tr>\n",
       "      <th>0</th>\n",
       "      <td>2024-11-03 01:00:00</td>\n",
       "      <td>57.07</td>\n",
       "      <td>8.906800</td>\n",
       "      <td>12.345307</td>\n",
       "      <td>8.018060</td>\n",
       "    </tr>\n",
       "    <tr>\n",
       "      <th>1</th>\n",
       "      <td>2024-11-03 02:00:00</td>\n",
       "      <td>56.55</td>\n",
       "      <td>8.738703</td>\n",
       "      <td>12.565145</td>\n",
       "      <td>8.159202</td>\n",
       "    </tr>\n",
       "    <tr>\n",
       "      <th>2</th>\n",
       "      <td>2024-11-03 03:00:00</td>\n",
       "      <td>55.77</td>\n",
       "      <td>8.819042</td>\n",
       "      <td>12.783374</td>\n",
       "      <td>8.299225</td>\n",
       "    </tr>\n",
       "    <tr>\n",
       "      <th>3</th>\n",
       "      <td>2024-11-03 04:00:00</td>\n",
       "      <td>55.86</td>\n",
       "      <td>8.937070</td>\n",
       "      <td>13.375657</td>\n",
       "      <td>8.678807</td>\n",
       "    </tr>\n",
       "    <tr>\n",
       "      <th>4</th>\n",
       "      <td>2024-11-03 05:00:00</td>\n",
       "      <td>55.47</td>\n",
       "      <td>9.151142</td>\n",
       "      <td>13.658950</td>\n",
       "      <td>8.860128</td>\n",
       "    </tr>\n",
       "  </tbody>\n",
       "</table>\n",
       "</div>"
      ],
      "text/plain": [
       "            start_time  value  VE_efri_actual_power  VE_efri_simulated_flow  \\\n",
       "0  2024-11-03 01:00:00  57.07              8.906800               12.345307   \n",
       "1  2024-11-03 02:00:00  56.55              8.738703               12.565145   \n",
       "2  2024-11-03 03:00:00  55.77              8.819042               12.783374   \n",
       "3  2024-11-03 04:00:00  55.86              8.937070               13.375657   \n",
       "4  2024-11-03 05:00:00  55.47              9.151142               13.658950   \n",
       "\n",
       "   VE_efri_simulated_power  \n",
       "0                 8.018060  \n",
       "1                 8.159202  \n",
       "2                 8.299225  \n",
       "3                 8.678807  \n",
       "4                 8.860128  "
      ]
     },
     "execution_count": 9,
     "metadata": {},
     "output_type": "execute_result"
    }
   ],
   "source": [
    "VE_nedri_df[\"VE_efri_simulated_flow\"] = VE_nedri_df[\"VE_efri_simulated_flow\"] * 0.75\n",
    "# VE_nedri_df[\"VE_nedri_simulated_power\"] = VE_nedri_df[\"VE_nedri_simulated_power\"] * (1/8)\n",
    "\n",
    "\n",
    "VE_nedri_df.head()"
   ]
  },
  {
   "cell_type": "code",
   "execution_count": 10,
   "id": "443826f3",
   "metadata": {},
   "outputs": [
    {
     "ename": "KeyError",
     "evalue": "\"['VE_efri_actual_flow'] not in index\"",
     "output_type": "error",
     "traceback": [
      "\u001b[0;31m---------------------------------------------------------------------------\u001b[0m",
      "\u001b[0;31mKeyError\u001b[0m                                  Traceback (most recent call last)",
      "Cell \u001b[0;32mIn[10], line 11\u001b[0m\n\u001b[1;32m      8\u001b[0m fig, axes \u001b[38;5;241m=\u001b[39m plt\u001b[38;5;241m.\u001b[39msubplots(\u001b[38;5;241m1\u001b[39m, \u001b[38;5;241m2\u001b[39m, figsize\u001b[38;5;241m=\u001b[39m(\u001b[38;5;241m14\u001b[39m, \u001b[38;5;241m6\u001b[39m))\n\u001b[1;32m     10\u001b[0m \u001b[38;5;66;03m# Plot 1: Actual vs Simulated Flow\u001b[39;00m\n\u001b[0;32m---> 11\u001b[0m sns\u001b[38;5;241m.\u001b[39mlineplot(ax\u001b[38;5;241m=\u001b[39maxes[\u001b[38;5;241m0\u001b[39m], data\u001b[38;5;241m=\u001b[39m\u001b[43mVE_nedri_df\u001b[49m\u001b[43m[\u001b[49m\u001b[43m[\u001b[49m\u001b[38;5;124;43m\"\u001b[39;49m\u001b[38;5;124;43mVE_efri_actual_flow\u001b[39;49m\u001b[38;5;124;43m\"\u001b[39;49m\u001b[43m,\u001b[49m\u001b[43m \u001b[49m\u001b[38;5;124;43m\"\u001b[39;49m\u001b[38;5;124;43mVE_efri_simulated_flow\u001b[39;49m\u001b[38;5;124;43m\"\u001b[39;49m\u001b[43m]\u001b[49m\u001b[43m]\u001b[49m)\n\u001b[1;32m     12\u001b[0m axes[\u001b[38;5;241m0\u001b[39m]\u001b[38;5;241m.\u001b[39mset_title(\u001b[38;5;124m\"\u001b[39m\u001b[38;5;124mActual vs Simulated Flow\u001b[39m\u001b[38;5;124m\"\u001b[39m)\n\u001b[1;32m     13\u001b[0m axes[\u001b[38;5;241m0\u001b[39m]\u001b[38;5;241m.\u001b[39mset_xlabel(\u001b[38;5;124m\"\u001b[39m\u001b[38;5;124mSample\u001b[39m\u001b[38;5;124m\"\u001b[39m)\n",
      "File \u001b[0;32m/opt/miniconda3/envs/pfas/lib/python3.10/site-packages/pandas/core/frame.py:4108\u001b[0m, in \u001b[0;36mDataFrame.__getitem__\u001b[0;34m(self, key)\u001b[0m\n\u001b[1;32m   4106\u001b[0m     \u001b[38;5;28;01mif\u001b[39;00m is_iterator(key):\n\u001b[1;32m   4107\u001b[0m         key \u001b[38;5;241m=\u001b[39m \u001b[38;5;28mlist\u001b[39m(key)\n\u001b[0;32m-> 4108\u001b[0m     indexer \u001b[38;5;241m=\u001b[39m \u001b[38;5;28;43mself\u001b[39;49m\u001b[38;5;241;43m.\u001b[39;49m\u001b[43mcolumns\u001b[49m\u001b[38;5;241;43m.\u001b[39;49m\u001b[43m_get_indexer_strict\u001b[49m\u001b[43m(\u001b[49m\u001b[43mkey\u001b[49m\u001b[43m,\u001b[49m\u001b[43m \u001b[49m\u001b[38;5;124;43m\"\u001b[39;49m\u001b[38;5;124;43mcolumns\u001b[39;49m\u001b[38;5;124;43m\"\u001b[39;49m\u001b[43m)\u001b[49m[\u001b[38;5;241m1\u001b[39m]\n\u001b[1;32m   4110\u001b[0m \u001b[38;5;66;03m# take() does not accept boolean indexers\u001b[39;00m\n\u001b[1;32m   4111\u001b[0m \u001b[38;5;28;01mif\u001b[39;00m \u001b[38;5;28mgetattr\u001b[39m(indexer, \u001b[38;5;124m\"\u001b[39m\u001b[38;5;124mdtype\u001b[39m\u001b[38;5;124m\"\u001b[39m, \u001b[38;5;28;01mNone\u001b[39;00m) \u001b[38;5;241m==\u001b[39m \u001b[38;5;28mbool\u001b[39m:\n",
      "File \u001b[0;32m/opt/miniconda3/envs/pfas/lib/python3.10/site-packages/pandas/core/indexes/base.py:6200\u001b[0m, in \u001b[0;36mIndex._get_indexer_strict\u001b[0;34m(self, key, axis_name)\u001b[0m\n\u001b[1;32m   6197\u001b[0m \u001b[38;5;28;01melse\u001b[39;00m:\n\u001b[1;32m   6198\u001b[0m     keyarr, indexer, new_indexer \u001b[38;5;241m=\u001b[39m \u001b[38;5;28mself\u001b[39m\u001b[38;5;241m.\u001b[39m_reindex_non_unique(keyarr)\n\u001b[0;32m-> 6200\u001b[0m \u001b[38;5;28;43mself\u001b[39;49m\u001b[38;5;241;43m.\u001b[39;49m\u001b[43m_raise_if_missing\u001b[49m\u001b[43m(\u001b[49m\u001b[43mkeyarr\u001b[49m\u001b[43m,\u001b[49m\u001b[43m \u001b[49m\u001b[43mindexer\u001b[49m\u001b[43m,\u001b[49m\u001b[43m \u001b[49m\u001b[43maxis_name\u001b[49m\u001b[43m)\u001b[49m\n\u001b[1;32m   6202\u001b[0m keyarr \u001b[38;5;241m=\u001b[39m \u001b[38;5;28mself\u001b[39m\u001b[38;5;241m.\u001b[39mtake(indexer)\n\u001b[1;32m   6203\u001b[0m \u001b[38;5;28;01mif\u001b[39;00m \u001b[38;5;28misinstance\u001b[39m(key, Index):\n\u001b[1;32m   6204\u001b[0m     \u001b[38;5;66;03m# GH 42790 - Preserve name from an Index\u001b[39;00m\n",
      "File \u001b[0;32m/opt/miniconda3/envs/pfas/lib/python3.10/site-packages/pandas/core/indexes/base.py:6252\u001b[0m, in \u001b[0;36mIndex._raise_if_missing\u001b[0;34m(self, key, indexer, axis_name)\u001b[0m\n\u001b[1;32m   6249\u001b[0m     \u001b[38;5;28;01mraise\u001b[39;00m \u001b[38;5;167;01mKeyError\u001b[39;00m(\u001b[38;5;124mf\u001b[39m\u001b[38;5;124m\"\u001b[39m\u001b[38;5;124mNone of [\u001b[39m\u001b[38;5;132;01m{\u001b[39;00mkey\u001b[38;5;132;01m}\u001b[39;00m\u001b[38;5;124m] are in the [\u001b[39m\u001b[38;5;132;01m{\u001b[39;00maxis_name\u001b[38;5;132;01m}\u001b[39;00m\u001b[38;5;124m]\u001b[39m\u001b[38;5;124m\"\u001b[39m)\n\u001b[1;32m   6251\u001b[0m not_found \u001b[38;5;241m=\u001b[39m \u001b[38;5;28mlist\u001b[39m(ensure_index(key)[missing_mask\u001b[38;5;241m.\u001b[39mnonzero()[\u001b[38;5;241m0\u001b[39m]]\u001b[38;5;241m.\u001b[39munique())\n\u001b[0;32m-> 6252\u001b[0m \u001b[38;5;28;01mraise\u001b[39;00m \u001b[38;5;167;01mKeyError\u001b[39;00m(\u001b[38;5;124mf\u001b[39m\u001b[38;5;124m\"\u001b[39m\u001b[38;5;132;01m{\u001b[39;00mnot_found\u001b[38;5;132;01m}\u001b[39;00m\u001b[38;5;124m not in index\u001b[39m\u001b[38;5;124m\"\u001b[39m)\n",
      "\u001b[0;31mKeyError\u001b[0m: \"['VE_efri_actual_flow'] not in index\""
     ]
    },
    {
     "data": {
      "image/png": "[encoded data removed]",
      "text/plain": [
       "<Figure size 1400x600 with 2 Axes>"
      ]
     },
     "metadata": {},
     "output_type": "display_data"
    }
   ],
   "source": [
    "import matplotlib.pyplot as plt\n",
    "import seaborn as sns\n",
    "\n",
    "# Set seaborn theme for clean plots\n",
    "sns.set(style=\"whitegrid\", context=\"talk\")\n",
    "\n",
    "# Create subplots: 1 row, 2 columns, wider figure\n",
    "fig, axes = plt.subplots(1, 2, figsize=(14, 6))\n",
    "\n",
    "# Plot 1: Actual vs Simulated Flow\n",
    "sns.lineplot(ax=axes[0], data=VE_nedri_df[[\"VE_efri_actual_flow\", \"VE_efri_simulated_flow\"]])\n",
    "axes[0].set_title(\"Actual vs Simulated Flow\")\n",
    "axes[0].set_xlabel(\"Sample\")\n",
    "axes[0].set_ylabel(\"Flow LPS\")\n",
    "axes[0].legend([\"Actual\", \"Simulated\"])\n",
    "axes[0].tick_params(axis='x', rotation=45)\n",
    "axes[0].grid(True)\n",
    "\n",
    "# Plot 2: Actual vs Simulated Power\n",
    "sns.lineplot(ax=axes[1], data=VE_nedri_df[[\"VE_efri_actual_power\", \"VE_efri_simulated_power\"]])\n",
    "axes[1].set_title(\"Actual vs Simulated Power\")\n",
    "axes[1].set_xlabel(\"Sample\")\n",
    "axes[1].set_ylabel(\"Power (kW)\")\n",
    "axes[1].legend([\"Actual\", \"Simulated\"])\n",
    "axes[1].tick_params(axis='x', rotation=45)\n",
    "axes[1].grid(True)\n",
    "\n",
    "plt.tight_layout()\n",
    "plt.show()\n"
   ]
  },
  {
   "cell_type": "code",
   "execution_count": null,
   "id": "06bc74dc",
   "metadata": {},
   "outputs": [],
   "source": [
    "from sklearn.metrics import mean_absolute_error, mean_squared_error\n",
    "import numpy as np\n",
    "from scipy.stats import pearsonr\n",
    "\n",
    "# For Flow\n",
    "actual_flow = VE_nedri_df[\"VE_efri_actual_flow\"]\n",
    "sim_flow = VE_nedri_df[\"VE_efri_simulated_flow\"]\n",
    "\n",
    "mae_flow = mean_absolute_error(actual_flow, sim_flow)\n",
    "rmse_flow = np.sqrt(mean_squared_error(actual_flow, sim_flow))\n",
    "r_flow, p_flow = pearsonr(actual_flow, sim_flow)\n",
    "\n",
    "print(f\"Flow MAE: {mae_flow:.3f}\")\n",
    "print(f\"Flow RMSE: {rmse_flow:.3f}\")\n",
    "print(f\"Flow Pearson r: {r_flow:.3f} (p = {p_flow:.3g})\")\n",
    "\n",
    "# For Power\n",
    "actual_power = VE_nedri_df[\"VE_efri_actual_power\"]\n",
    "sim_power = VE_nedri_df[\"VE_efri_simulated_power\"]\n",
    "\n",
    "mae_power = mean_absolute_error(actual_power, sim_power)\n",
    "rmse_power = np.sqrt(mean_squared_error(actual_power, sim_power))\n",
    "r_power, p_power = pearsonr(actual_power, sim_power)\n",
    "\n",
    "print(f\"Power MAE: {mae_power:.3f}\")\n",
    "print(f\"Power RMSE: {rmse_power:.3f}\")\n",
    "print(f\"Power Pearson r: {r_power:.3f} (p = {p_power:.3g})\")\n"
   ]
  },
  {
   "cell_type": "markdown",
   "id": "9a6137fc",
   "metadata": {},
   "source": [
    "MAE = 0.769\n",
    "On average, the simulated flow values differ from the actual flow by about 0.77 units (likely liters per second). This is your typical absolute error.\n",
    "RMSE = 0.836\n",
    "The root mean squared error is slightly higher than MAE, meaning there are some errors that are a bit larger (since RMSE penalizes larger errors more).\n",
    "Pearson r = 1.000 (p = 1.88e-36)\n",
    "This indicates an almost perfect linear correlation between actual and simulated flows. The p-value is essentially zero, confirming this strong correlation is statistically significant.\n",
    "Interpretation: Your flow simulation is very accurate, with errors less than 1 L/s on average and almost perfect correlation with actual data."
   ]
  },
  {
   "cell_type": "markdown",
   "id": "a32a01ed",
   "metadata": {},
   "source": [
    "Power:\n",
    "MAE = 0.410\n",
    "On average, the simulated power deviates from actual power by about 0.41 kW.\n",
    "RMSE = 0.514\n",
    "Slightly higher than MAE, showing there are some points with larger deviation, but still fairly close overall.\n",
    "Pearson r = 0.923 (p = 9.46e-10)\n",
    "This is a very strong positive linear correlation between simulated and actual power, also highly statistically significant.\n",
    "Interpretation: Power simulation is quite good, with slightly larger errors relative to flow, but still strongly correlated with actual measurements."
   ]
  },
  {
   "cell_type": "code",
   "execution_count": null,
   "id": "3784cbdc",
   "metadata": {},
   "outputs": [],
   "source": []
  }
 ],
 "metadata": {
  "kernelspec": {
   "display_name": "pfas",
   "language": "python",
   "name": "python3"
  },
  "language_info": {
   "codemirror_mode": {
    "name": "ipython",
    "version": 3
   },
   "file_extension": ".py",
   "mimetype": "text/x-python",
   "name": "python",
   "nbconvert_exporter": "python",
   "pygments_lexer": "ipython3",
   "version": "3.10.14"
  }
 },
 "nbformat": 4,
 "nbformat_minor": 5
}
