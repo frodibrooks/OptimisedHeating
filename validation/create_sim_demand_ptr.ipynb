{
 "cells": [
  {
   "cell_type": "markdown",
   "id": "67ad2a36",
   "metadata": {},
   "source": [
    "# Lets generate the demand pattern for the results chapter"
   ]
  },
  {
   "cell_type": "code",
   "execution_count": null,
   "id": "bab4cee3",
   "metadata": {
    "vscode": {
     "languageId": "plaintext"
    }
   },
   "outputs": [],
   "source": []
  }
 ],
 "metadata": {
  "language_info": {
   "name": "python"
  }
 },
 "nbformat": 4,
 "nbformat_minor": 5
}
