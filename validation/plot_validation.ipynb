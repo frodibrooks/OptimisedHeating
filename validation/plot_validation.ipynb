{
 "cells": [
  {
   "cell_type": "code",
   "execution_count": null,
   "metadata": {},
   "outputs": [
    {
     "name": "stderr",
     "output_type": "stream",
     "text": [
      "Exception ignored in: <bound method IPythonKernel._clean_thread_parent_frames of <ipykernel.ipkernel.IPythonKernel object at 0x7fac791cace0>>\n",
      "Traceback (most recent call last):\n",
      "  File \"/opt/miniconda3/envs/pfas/lib/python3.10/site-packages/ipykernel/ipkernel.py\", line 775, in _clean_thread_parent_frames\n",
      "    def _clean_thread_parent_frames(\n",
      "KeyboardInterrupt: \n"
     ]
    }
   ],
   "source": [
    "import pandas as pd\n",
    "import matplotlib.pyplot as plt"
   ]
  },
  {
   "cell_type": "code",
   "execution_count": null,
   "metadata": {},
   "outputs": [],
   "source": [
    "csv_path = \"/Users/frodibrooks/Desktop/DTU/Thesis/OptimisedHeating/validation/validation_full_log_agent12.csv\"\n",
    "agent_results_df = pd.read_csv(csv_path)"
   ]
  },
  {
   "cell_type": "code",
   "execution_count": null,
   "metadata": {},
   "outputs": [],
   "source": [
    "# Set 'Step' as the index\n",
    "agent_results_df = agent_results_df.set_index('Step')\n",
    "\n",
    "# Scale the 'EffRatio' column by multiplying it by 3\n",
    "agent_results_df['EffRatio'] = agent_results_df['EffRatio'] * 3\n",
    "agent_results_df['Energy'] = agent_results_df['Energy']*-0.02\n",
    "\n",
    "# Display the updated DataFrame (all columns should remain intact)\n",
    "agent_results_df.head()\n"
   ]
  },
  {
   "cell_type": "code",
   "execution_count": null,
   "metadata": {},
   "outputs": [],
   "source": [
    "agent_results_df.shape"
   ]
  },
  {
   "cell_type": "code",
   "execution_count": null,
   "metadata": {},
   "outputs": [],
   "source": [
    "\n",
    "plt.figure(figsize=(6, 3))\n",
    "\n",
    "# Plot the 'PumpPower_17' data\n",
    "plt.plot(agent_results_df.index, agent_results_df['PumpPower_17'], label='PumpPower_17')\n",
    "\n",
    "# Plot the 'PumpPower_10' data\n",
    "plt.plot(agent_results_df.index, agent_results_df['PumpPower_10'], label='PumpPower_10', linestyle='--')\n",
    "\n",
    "# Add labels and title\n",
    "plt.xlabel(\"Time\")\n",
    "plt.ylabel(\"Pump Power\")\n",
    "plt.title(\"Pump Power over Time for Rjúpnasalir\")\n",
    "plt.grid(True)\n",
    "\n",
    "# Display the legend\n",
    "plt.legend()\n",
    "\n",
    "# Show the plot\n",
    "plt.show()\n"
   ]
  },
  {
   "cell_type": "code",
   "execution_count": null,
   "metadata": {},
   "outputs": [],
   "source": [
    "\n",
    "plt.figure(figsize=(6, 3))\n",
    "\n",
    "# Plot the 'PumpPower_17' data\n",
    "plt.plot(agent_results_df.index, agent_results_df['PumpPower_25'], label='PumpPower_25')\n",
    "\n",
    "# Plot the 'PumpPower_10' data\n",
    "plt.plot(agent_results_df.index, agent_results_df['PumpPower_26'], label='PumpPower_26', linestyle='--')\n",
    "\n",
    "# Plot the 'PumpPower_10' data\n",
    "plt.plot(agent_results_df.index, agent_results_df['PumpPower_27'], label='PumpPower_27')\n",
    "\n",
    "# Add labels and title\n",
    "plt.xlabel(\"Time\")\n",
    "plt.ylabel(\"Pump Power\")\n",
    "plt.title(\"Pump Power over Time for Vatnsendi\")\n",
    "plt.grid(True)\n",
    "plt.ylim(8,19)\n",
    "\n",
    "# Display the legend\n",
    "plt.legend()\n",
    "\n",
    "# Show the plot\n",
    "plt.show()\n"
   ]
  },
  {
   "cell_type": "code",
   "execution_count": null,
   "metadata": {},
   "outputs": [],
   "source": [
    "\n",
    "plt.figure(figsize=(6, 3))\n",
    "\n",
    "# Plot the 'PumpPower_17' data\n",
    "plt.scatter(agent_results_df.index, agent_results_df['ActionIndex'], label='Action')\n",
    "\n",
    "\n",
    "# Add labels and title\n",
    "plt.xlabel(\"Time\")\n",
    "plt.ylabel(\"ActionIndex\")\n",
    "# plt.title(\"Pump Power over Time for Vatnsendi\")\n",
    "plt.grid(True)\n",
    "\n",
    "# Display the legend\n",
    "plt.legend()\n",
    "\n",
    "# Show the plot\n",
    "plt.show()"
   ]
  },
  {
   "cell_type": "code",
   "execution_count": null,
   "metadata": {},
   "outputs": [],
   "source": [
    "\n",
    "plt.figure(figsize=(6, 3))\n",
    "\n",
    "# Plot the 'EffRatio' data\n",
    "plt.plot(agent_results_df.index, agent_results_df['EffRatio'], label='Action')\n",
    "\n",
    "# Add labels and title\n",
    "plt.xlabel(\"Time\")\n",
    "plt.ylabel(\"Eff Ratio\")\n",
    "plt.title(\"Eff Ratio over Time for Vatnsendi\")\n",
    "plt.grid(True)\n",
    "plt.legend()\n",
    "\n",
    "# Show the plot\n",
    "plt.show()\n"
   ]
  },
  {
   "cell_type": "code",
   "execution_count": null,
   "metadata": {},
   "outputs": [],
   "source": [
    "\n",
    "plt.figure(figsize=(6, 3))\n",
    "\n",
    "# Plot the 'PumpPower_17' data\n",
    "plt.plot(agent_results_df.index, agent_results_df['ValidHeadsRatio'], label='ValidHeadsRatio')\n",
    "\n",
    "\n",
    "# Add labels and title\n",
    "plt.xlabel(\"Time\")\n",
    "plt.ylabel(\"Valid heads Ratio\")\n",
    "plt.title(\"Valid heads Ratio over Time for Vatnsendi\")\n",
    "plt.grid(True)\n",
    "\n",
    "# Display the legend\n",
    "plt.legend()\n",
    "\n",
    "# Show the plot\n",
    "plt.show()\n"
   ]
  },
  {
   "cell_type": "code",
   "execution_count": null,
   "metadata": {},
   "outputs": [],
   "source": [
    "import matplotlib.pyplot as plt\n",
    "\n",
    "# Create a new column for the sum of EffRatio and ValidHeadsRatio\n",
    "agent_results_df['Total'] = agent_results_df['EffRatio'] + agent_results_df['ValidHeadsRatio']\n",
    "\n",
    "plt.figure(figsize=(8, 4))\n",
    "\n",
    "# Plot the stacked area chart for EffRatio and ValidHeadsRatio\n",
    "plt.fill_between(agent_results_df.index, 0, agent_results_df['EffRatio'], label='Eff Ratio', color='blue', alpha=0.7)\n",
    "plt.fill_between(agent_results_df.index, agent_results_df['EffRatio'], agent_results_df['Total'], label='Valid Heads Ratio', color='green', alpha=0.7)\n",
    "\n",
    "# Plot Energy (negative) below x-axis\n",
    "plt.fill_between(agent_results_df.index, 0, agent_results_df['Energy'], label='Energy Usage (negative)', color='red', alpha=0.4)\n",
    "\n",
    "# Add labels and title\n",
    "plt.xlabel(\"Time\")\n",
    "plt.ylabel(\"Metric Value\")\n",
    "plt.title(\"Eff Ratio, Valid Heads Ratio, and Energy Usage over Time for Vatnsendi\")\n",
    "plt.grid(True)\n",
    "\n",
    "# Display the legend\n",
    "plt.legend()\n",
    "\n",
    "# Show the plot\n",
    "plt.show()\n"
   ]
  },
  {
   "cell_type": "code",
   "execution_count": null,
   "metadata": {},
   "outputs": [],
   "source": [
    "\n",
    "plt.figure(figsize=(6, 3))\n",
    "\n",
    "# Plot the 'PumpPower_17' data\n",
    "plt.plot(agent_results_df.index, agent_results_df['PumpGroupSpeed_1'], label='PumpGroupSpeed_1')\n",
    "\n",
    "# Plot the 'PumpPower_10' data\n",
    "plt.plot(agent_results_df.index, agent_results_df['PumpGroupSpeed_2'], label='PumpGroupSpeed_2')\n",
    "# Plot the 'PumpPower_17' data\n",
    "\n",
    "\n",
    "# Add labels and title\n",
    "plt.xlabel(\"Time\")\n",
    "plt.ylabel(\"Pump Group Speed\")\n",
    "plt.title(\"Pump group Speeds over Time for Vatnsendi\")\n",
    "plt.grid(True)\n",
    "\n",
    "# Display the legend\n",
    "plt.legend()\n",
    "\n",
    "# Show the plot\n",
    "plt.show()\n"
   ]
  },
  {
   "cell_type": "code",
   "execution_count": null,
   "metadata": {},
   "outputs": [],
   "source": [
    "for i in range(len(agent_results_df)):\n",
    "    print(f\"Step {i}  Group 1: {agent_results_df['PumpGroupSpeed_1'][i]},  Group 2: {agent_results_df['PumpGroupSpeed_2'][i]}, Demand scale {agent_results_df['DemandScale'][i]}\")\n"
   ]
  },
  {
   "cell_type": "code",
   "execution_count": null,
   "metadata": {},
   "outputs": [],
   "source": [
    "import matplotlib.pyplot as plt\n",
    "\n",
    "plt.figure(figsize=(10, 5))\n",
    "\n",
    "# Loop through all Q-value columns\n",
    "for i in range(100):\n",
    "    plt.plot(agent_results_df.index, agent_results_df[f'Q_{i}'], label=f'Q_{i}', alpha=0.5)\n",
    "\n",
    "# Add labels and title\n",
    "plt.xlabel(\"Time\")\n",
    "plt.ylabel(\"Q values\")\n",
    "plt.title(\"Q values over time\")\n",
    "plt.grid(True)\n",
    "\n",
    "# Display legend only for the first few to avoid clutter\n",
    "handles, labels = plt.gca().get_legend_handles_labels()\n",
    "plt.legend(handles[:10], labels[:10], loc='upper right', title='Showing first 10 Q-values')\n",
    "\n",
    "# Show the plot\n",
    "plt.show()\n"
   ]
  },
  {
   "cell_type": "code",
   "execution_count": null,
   "metadata": {},
   "outputs": [],
   "source": []
  }
 ],
 "metadata": {
  "kernelspec": {
   "display_name": "pfas",
   "language": "python",
   "name": "python3"
  },
  "language_info": {
   "codemirror_mode": {
    "name": "ipython",
    "version": 3
   },
   "file_extension": ".py",
   "mimetype": "text/x-python",
   "name": "python",
   "nbconvert_exporter": "python",
   "pygments_lexer": "ipython3",
   "version": "3.10.14"
  }
 },
 "nbformat": 4,
 "nbformat_minor": 2
}
