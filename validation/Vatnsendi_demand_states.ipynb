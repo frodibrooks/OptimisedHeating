{
 "cells": [
  {
   "cell_type": "markdown",
   "id": "1f7e326e",
   "metadata": {},
   "source": [
    "# Sækjum gildin fyrir núverandi control methods"
   ]
  },
  {
   "cell_type": "code",
   "execution_count": 25,
   "id": "dc575d21",
   "metadata": {},
   "outputs": [],
   "source": [
    "import sys\n",
    "import os\n",
    "\n",
    "os.chdir(\"/Users/frodibrooks/Desktop/DTU/Thesis/OptimisedHeating/AgentV2\")"
   ]
  },
  {
   "cell_type": "code",
   "execution_count": 28,
   "id": "16ebd186",
   "metadata": {},
   "outputs": [],
   "source": [
    "from pump_env_demands import WdsWithDemand\n",
    "import pandas as pd\n",
    "import numpy as np\n",
    "\n",
    "def get_state_from_input_named(demand: float, pumpgroup_speeds: list[float]) -> pd.DataFrame:\n",
    "    assert len(pumpgroup_speeds) == 3, \"Expected 3 pump group speeds\"\n",
    "\n",
    "    env = WdsWithDemand(demand_pattern=np.array([demand]), use_constant_demand=True)\n",
    "    env.reset()\n",
    "\n",
    "    # Set pump group speeds\n",
    "    for group_idx, speed in enumerate(pumpgroup_speeds):\n",
    "        for pump_id in env.pumpGroups[group_idx]:\n",
    "            env.pump_speeds[pump_id] = speed\n",
    "            env.wds.pumps[pump_id].speed = speed\n",
    "\n",
    "    # Apply scaled demand\n",
    "    for junction in env.wds.junctions:\n",
    "        junction.basedemand = env.demandDict[junction.uid] * demand\n",
    "\n",
    "    # Solve and compute state\n",
    "    env.wds.solve()\n",
    "    env.pump_power()\n",
    "    env.calculate_pump_efficiencies()\n",
    "\n",
    "    # Use get_state_named instead of get_state\n",
    "    named_state = env.get_state_named()\n",
    "\n",
    "    # Add demand and pump group speeds to state\n",
    "    named_state['input_demand'] = demand\n",
    "    for i, speed in enumerate(pumpgroup_speeds):\n",
    "        named_state[f'pumpgroup_{i+1}_speed'] = speed\n",
    "\n",
    "    # Return as DataFrame\n",
    "    return pd.DataFrame([named_state])\n"
   ]
  },
  {
   "cell_type": "code",
   "execution_count": 29,
   "id": "82fe7c90",
   "metadata": {},
   "outputs": [
    {
     "ename": "AttributeError",
     "evalue": "'WdsWithDemand' object has no attribute 'get_state_named'",
     "output_type": "error",
     "traceback": [
      "\u001b[0;31m---------------------------------------------------------------------------\u001b[0m",
      "\u001b[0;31mAttributeError\u001b[0m                            Traceback (most recent call last)",
      "Cell \u001b[0;32mIn[29], line 1\u001b[0m\n\u001b[0;32m----> 1\u001b[0m df \u001b[38;5;241m=\u001b[39m \u001b[43mget_state_from_input_named\u001b[49m\u001b[43m(\u001b[49m\u001b[38;5;241;43m1.0\u001b[39;49m\u001b[43m,\u001b[49m\u001b[43m \u001b[49m\u001b[43m[\u001b[49m\u001b[38;5;241;43m1.0\u001b[39;49m\u001b[43m,\u001b[49m\u001b[43m \u001b[49m\u001b[38;5;241;43m1.1\u001b[39;49m\u001b[43m,\u001b[49m\u001b[43m \u001b[49m\u001b[38;5;241;43m1.2\u001b[39;49m\u001b[43m]\u001b[49m\u001b[43m)\u001b[49m\n\u001b[1;32m      2\u001b[0m \u001b[38;5;28mprint\u001b[39m(df\u001b[38;5;241m.\u001b[39mT)  \u001b[38;5;66;03m# Transpose for better readability\u001b[39;00m\n",
      "Cell \u001b[0;32mIn[28], line 27\u001b[0m, in \u001b[0;36mget_state_from_input_named\u001b[0;34m(demand, pumpgroup_speeds)\u001b[0m\n\u001b[1;32m     24\u001b[0m env\u001b[38;5;241m.\u001b[39mcalculate_pump_efficiencies()\n\u001b[1;32m     26\u001b[0m \u001b[38;5;66;03m# Use get_state_named instead of get_state\u001b[39;00m\n\u001b[0;32m---> 27\u001b[0m named_state \u001b[38;5;241m=\u001b[39m \u001b[43menv\u001b[49m\u001b[38;5;241;43m.\u001b[39;49m\u001b[43mget_state_named\u001b[49m()\n\u001b[1;32m     29\u001b[0m \u001b[38;5;66;03m# Add demand and pump group speeds to state\u001b[39;00m\n\u001b[1;32m     30\u001b[0m named_state[\u001b[38;5;124m'\u001b[39m\u001b[38;5;124minput_demand\u001b[39m\u001b[38;5;124m'\u001b[39m] \u001b[38;5;241m=\u001b[39m demand\n",
      "\u001b[0;31mAttributeError\u001b[0m: 'WdsWithDemand' object has no attribute 'get_state_named'"
     ]
    }
   ],
   "source": [
    "df = get_state_from_input_named(1.0, [1.0, 1.1, 1.2])\n",
    "print(df.T)  # Transpose for better readability\n"
   ]
  },
  {
   "cell_type": "code",
   "execution_count": null,
   "id": "4bd3550f",
   "metadata": {},
   "outputs": [],
   "source": []
  }
 ],
 "metadata": {
  "kernelspec": {
   "display_name": "pfas",
   "language": "python",
   "name": "python3"
  },
  "language_info": {
   "codemirror_mode": {
    "name": "ipython",
    "version": 3
   },
   "file_extension": ".py",
   "mimetype": "text/x-python",
   "name": "python",
   "nbconvert_exporter": "python",
   "pygments_lexer": "ipython3",
   "version": "3.10.14"
  }
 },
 "nbformat": 4,
 "nbformat_minor": 5
}
