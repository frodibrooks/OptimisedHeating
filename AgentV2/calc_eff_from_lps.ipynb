{
 "cells": [
  {
   "cell_type": "code",
   "execution_count": 3,
   "metadata": {},
   "outputs": [
    {
     "name": "stdout",
     "output_type": "stream",
     "text": [
      "0.42434345000000007\n"
     ]
    }
   ],
   "source": [
    "import numpy as np\n",
    "\n",
    "eff_curves = {\n",
    "    '25': np.poly1d([-0.00001, 0.00014, 0.01076, 0.35117]),\n",
    "    '26': np.poly1d([-0.00001, 0.00014, 0.01076, 0.35117]),\n",
    "    '27': np.poly1d([-0.00250, 0.12407, -1.11199]),\n",
    "    '17': np.poly1d([1.8e-07, -0.0001395, 0.02017, -0.1193]),\n",
    "    '10': np.poly1d([1.8e-07, -0.0001395, 0.02017, -0.1193]),\n",
    "}\n",
    "\n",
    "def get_efficiency(number, x):\n",
    "    number_str = str(number)\n",
    "    if number_str in eff_curves:\n",
    "        poly = eff_curves[number_str]\n",
    "        return poly(x)\n",
    "    else:\n",
    "        raise ValueError(f\"Pump number {number} not found in efficiency curves.\")\n",
    "\n",
    "# Example usage:\n",
    "y = get_efficiency(27, 25.91)\n",
    "print(y)\n"
   ]
  },
  {
   "cell_type": "code",
   "execution_count": null,
   "metadata": {},
   "outputs": [],
   "source": []
  }
 ],
 "metadata": {
  "kernelspec": {
   "display_name": "pfas",
   "language": "python",
   "name": "python3"
  },
  "language_info": {
   "codemirror_mode": {
    "name": "ipython",
    "version": 3
   },
   "file_extension": ".py",
   "mimetype": "text/x-python",
   "name": "python",
   "nbconvert_exporter": "python",
   "pygments_lexer": "ipython3",
   "version": "3.10.14"
  }
 },
 "nbformat": 4,
 "nbformat_minor": 2
}
