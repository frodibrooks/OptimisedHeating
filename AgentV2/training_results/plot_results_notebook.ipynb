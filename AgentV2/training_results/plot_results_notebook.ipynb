{
 "cells": [
  {
   "cell_type": "markdown",
   "id": "3a3d9447",
   "metadata": {},
   "source": [
    "Plottum training niðurstöður"
   ]
  },
  {
   "cell_type": "code",
   "execution_count": null,
   "id": "f6b0b716",
   "metadata": {},
   "outputs": [],
   "source": [
    "import pandas as pd\n",
    "import numpy as np\n",
    "import os"
   ]
  },
  {
   "cell_type": "code",
   "execution_count": null,
   "id": "3e361b1a",
   "metadata": {},
   "outputs": [],
   "source": [
    "def load_file(agent_number):\n",
    "    os.chdir(\"/Users/frodibrooks/Desktop/DTU/Thesis/OptimisedHeating/AgentV2/training_results/logs\")\n",
    "    try:\n",
    "        df = pd.read_csv(\"reward_log_agent\" + str(agent_number) + \".csv\")\n",
    "        print(df.head())\n",
    "        return df\n",
    "    except FileNotFoundError:\n",
    "        print(f\"Agent log {agent_number} not found.\")\n",
    "        return None\n"
   ]
  },
  {
   "cell_type": "code",
   "execution_count": null,
   "id": "1055ac6f",
   "metadata": {},
   "outputs": [],
   "source": [
    "log_nbr = \"406\"\n",
    "df = load_file(log_nbr)"
   ]
  },
  {
   "cell_type": "code",
   "execution_count": null,
   "id": "8a5ba55e",
   "metadata": {},
   "outputs": [],
   "source": [
    "print(len(df))"
   ]
  },
  {
   "cell_type": "code",
   "execution_count": null,
   "id": "715de2b7",
   "metadata": {},
   "outputs": [],
   "source": [
    "import matplotlib.pyplot as plt\n",
    "\n",
    "# Remove zero rewards\n",
    "df_clean = df[df['Reward'] != 0].copy()\n",
    "\n",
    "# Compute rolling average on the cleaned data\n",
    "df_clean['Smoothed'] = df_clean['Reward'].rolling(window=100, min_periods=1).mean()\n",
    "\n",
    "plt.figure(figsize=(12, 6))\n",
    "\n",
    "# Faint line plot for raw rewards\n",
    "plt.plot(df_clean['Episode'], df_clean['Reward'], label='Raw Reward', color='gray', alpha=0.3)\n",
    "\n",
    "# Rolling average line in red\n",
    "plt.plot(df_clean['Episode'], df_clean['Smoothed'], label='Smoothed Reward (100-episode avg)', color='red', linewidth=2)\n",
    "\n",
    "plt.xlabel('Episode')\n",
    "plt.ylabel('Reward')\n",
    "plt.title('Reward per Episode + Rolling Average')\n",
    "plt.grid(True)\n",
    "plt.legend()\n",
    "plt.tight_layout()\n",
    "plt.ylim(0.6,1.7)\n",
    "\n",
    "\n",
    "\n",
    "plt.show()\n"
   ]
  },
  {
   "cell_type": "code",
   "execution_count": null,
   "id": "306c877e",
   "metadata": {},
   "outputs": [],
   "source": []
  }
 ],
 "metadata": {
  "kernelspec": {
   "display_name": "pfas",
   "language": "python",
   "name": "python3"
  },
  "language_info": {
   "codemirror_mode": {
    "name": "ipython",
    "version": 3
   },
   "file_extension": ".py",
   "mimetype": "text/x-python",
   "name": "python",
   "nbconvert_exporter": "python",
   "pygments_lexer": "ipython3",
   "version": "3.10.14"
  }
 },
 "nbformat": 4,
 "nbformat_minor": 5
}
