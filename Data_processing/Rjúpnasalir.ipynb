{
 "cells": [
  {
   "cell_type": "markdown",
   "metadata": {},
   "source": [
    "# Time series values for Rjúpnasalir pumpstation"
   ]
  },
  {
   "cell_type": "code",
   "execution_count": null,
   "metadata": {},
   "outputs": [],
   "source": [
    "import matplotlib.pyplot as plt\n",
    "import pandas as pd"
   ]
  },
  {
   "cell_type": "code",
   "execution_count": null,
   "metadata": {},
   "outputs": [],
   "source": [
    "df_pressure = pd.read_excel(\"data/H-KOP-RS-ÞS212.xlsx\")\n",
    "df_pressure.drop(columns=[\"mpoint_id\",\"mpoint_name\",\"aggregate_name\",\"aggregate_id\",\"flag\",\"quality_description\",\"event_time\"],inplace=True)\n",
    "df_pressure.head()\n",
    "\n"
   ]
  },
  {
   "cell_type": "code",
   "execution_count": null,
   "metadata": {},
   "outputs": [],
   "source": [
    "# Convert 'start_time' to datetime format\n",
    "df_pressure['start_time'] = pd.to_datetime(df_pressure['start_time'], errors='coerce')\n",
    "\n",
    "# Filter for July 2024\n",
    "df_filtered = df_pressure[(df_pressure['start_time'].dt.year == 2024) & (df_pressure['start_time'].dt.month > 3)]\n",
    "\n",
    "# Plot the values with more opacity and no line between them\n",
    "plt.figure(figsize=(8, 4))\n",
    "plt.plot(df_filtered['start_time'], df_filtered['value'], marker='o', linestyle='', alpha=0.2)  # Alpha controls opacity\n",
    "plt.xlabel('Time')\n",
    "plt.ylabel('Pressure [Bar]')\n",
    "plt.title('Pressure from Rjúpnasalir')  # Update the title for July\n",
    "plt.grid(True)\n",
    "plt.xticks(rotation=45)\n",
    "plt.ylim([7.7, 8])  # Set y-range from 0 to 100 (adjust as needed)\n",
    "\n",
    "\n",
    "plt.show()\n"
   ]
  },
  {
   "cell_type": "code",
   "execution_count": null,
   "metadata": {},
   "outputs": [],
   "source": [
    "df_flow = pd.read_excel(\"data/H-KOP-RS-RS212.xlsx\")\n",
    "df_flow.drop(columns=[\"mpoint_id\",\"mpoint_name\",\"aggregate_name\",\"aggregate_id\",\"flag\",\"quality_description\",\"event_time\"],inplace=True)\n",
    "df_flow.head()"
   ]
  },
  {
   "cell_type": "code",
   "execution_count": null,
   "metadata": {},
   "outputs": [],
   "source": [
    "# Convert 'start_time' to datetime format\n",
    "df_flow['start_time'] = pd.to_datetime(df_flow['start_time'], errors='coerce')\n",
    "\n",
    "# Filter for July 2024\n",
    "df_filtered_flow = df_flow[(df_flow['start_time'].dt.year == 2024)]\n",
    "\n",
    "# Plot the values with more opacity and no line between them\n",
    "plt.figure(figsize=(8, 4))\n",
    "plt.plot(df_filtered_flow['start_time'], df_filtered_flow['value'], marker='o', linestyle='', alpha=0.2)  # Alpha controls opacity\n",
    "plt.xlabel('Time')\n",
    "plt.ylabel('Flow LPS')\n",
    "plt.title('Flow from Rjúpnasalir')  # Update the title for July\n",
    "plt.grid(True)\n",
    "plt.xticks(rotation=45)\n",
    "plt.ylim([20, 100])  # Set y-range from 0 to 100 (adjust as needed)\n",
    "\n",
    "\n",
    "plt.show()\n"
   ]
  },
  {
   "cell_type": "code",
   "execution_count": null,
   "metadata": {},
   "outputs": [],
   "source": [
    "average_flow = df_filtered_flow['value'].mean()\n",
    "\n",
    "# Print the average\n",
    "print(f\"The average flow is: {average_flow:.2f} m3/h\")"
   ]
  },
  {
   "cell_type": "code",
   "execution_count": null,
   "metadata": {},
   "outputs": [],
   "source": [
    "import matplotlib.pyplot as plt\n",
    "import pandas as pd\n",
    "\n",
    "# --- Convert to datetime format ---\n",
    "df_flow['start_time'] = pd.to_datetime(df_flow['start_time'], errors='coerce')\n",
    "\n",
    "# --- Filter for 2024 ---\n",
    "df_filtered_flow = df_flow[df_flow['start_time'].dt.year == 2024]\n",
    "\n",
    "# --- Extract date column ---\n",
    "df_filtered_flow['date'] = df_filtered_flow['start_time'].dt.date\n",
    "\n",
    "# --- Choose an arbitrary date ---\n",
    "chosen_date = pd.to_datetime(\"2024-07-14\").date()\n",
    "day_data = df_filtered_flow[df_filtered_flow['date'] == chosen_date]\n",
    "\n",
    "# --- Sort by time ---\n",
    "day_data = day_data.sort_values(by='start_time')\n",
    "\n",
    "# --- Compute daily average flow ---\n",
    "daily_avg = day_data['value'].mean()\n",
    "\n",
    "# --- Plot ---\n",
    "plt.figure(figsize=(8, 4))\n",
    "plt.plot(day_data['start_time'], day_data['value'], marker='o', linestyle='-', alpha=0.7)\n",
    "plt.xlabel('Time')\n",
    "plt.ylabel('Flow [LPS]')\n",
    "plt.title(f'Flow from Rjúpnasalir on {chosen_date}')\n",
    "plt.grid(True)\n",
    "plt.xticks(rotation=45)\n",
    "# plt.ylim([20, 100])  # Adjust based on data range\n",
    "plt.tight_layout()\n",
    "plt.show()\n",
    "\n",
    "# --- Print relative flow values ---\n",
    "print(f\"\\nRelative Flow for {chosen_date} (value / daily average ≈ {daily_avg:.2f} LPS):\")\n",
    "for t, v in zip(day_data['start_time'], day_data['value']):\n",
    "    rel = v / daily_avg\n",
    "    print(f\"{t.strftime('%H:%M')} — Flow: {v:.2f} LPS, Relative: {rel:.3f}\")\n"
   ]
  },
  {
   "cell_type": "code",
   "execution_count": null,
   "metadata": {},
   "outputs": [],
   "source": [
    "import matplotlib.pyplot as plt\n",
    "import pandas as pd\n",
    "\n",
    "# --- Convert to datetime format ---\n",
    "df_flow['start_time'] = pd.to_datetime(df_flow['start_time'], errors='coerce')\n",
    "\n",
    "# --- Filter for 2024 ---\n",
    "df_filtered_flow = df_flow[df_flow['start_time'].dt.year == 2024]\n",
    "\n",
    "# --- Extract date column ---\n",
    "df_filtered_flow['date'] = df_filtered_flow['start_time'].dt.date\n",
    "\n",
    "yearly_avg = df_filtered_flow['value'].mean()\n",
    "\n",
    "# --- Choose an arbitrary date ---\n",
    "# chosen_date = pd.to_datetime(\"2024-01-15\").date()\n",
    "# chosen_date = pd.to_datetime(\"2024-10-10\").date() # Góður vetrar dagur!\n",
    "chosen_date = pd.to_datetime(\"2024-02-20\").date()\n",
    "\n",
    "\n",
    "\n",
    "day_data = df_filtered_flow[df_filtered_flow['date'] == chosen_date]\n",
    "\n",
    "# --- Sort by time ---\n",
    "day_data = day_data.sort_values(by='start_time')\n",
    "\n",
    "# --- Compute daily average flow ---\n",
    "daily_avg = day_data['value'].mean()\n",
    "\n",
    "# --- Plot ---\n",
    "plt.figure(figsize=(8, 4))\n",
    "plt.plot(day_data['start_time'], day_data['value']/1, marker='o', linestyle='-', alpha=0.7)\n",
    "plt.xlabel('Time')\n",
    "plt.ylabel('Flow [LPS]')\n",
    "plt.title(f'Flow from Rjúpnasalir on {chosen_date}')\n",
    "# plt.title(f'Flow from Rjúpnasalir on 2024-06-14')\n",
    "\n",
    "plt.grid(True)\n",
    "plt.xticks(rotation=45)\n",
    "# plt.ylim([20, 100])  # Adjust based on data range\n",
    "plt.tight_layout()\n",
    "plt.show()\n",
    "\n",
    "# --- Print relative flow values ---\n",
    "print(f\"\\nRelative Flow for {chosen_date} (value / daily average ≈ {yearly_avg:.2f} LPS):\")\n",
    "for t, v in zip(day_data['start_time'], day_data['value']):\n",
    "    rel = v / yearly_avg\n",
    "    print(f\"{t.strftime('%H:%M')} — Flow: {v:.2f} LPS, Relative: {rel:.3f}\")\n"
   ]
  },
  {
   "cell_type": "code",
   "execution_count": null,
   "metadata": {},
   "outputs": [],
   "source": []
  },
  {
   "cell_type": "code",
   "execution_count": null,
   "metadata": {},
   "outputs": [],
   "source": [
    "import matplotlib.pyplot as plt\n",
    "\n",
    "# Convert 'start_time' to datetime format\n",
    "df_flow['start_time'] = pd.to_datetime(df_flow['start_time'], errors='coerce')\n",
    "\n",
    "# Filter data for the year 2024\n",
    "df_filtered_flow = df_flow[df_flow['start_time'].dt.year == 2024]\n",
    "\n",
    "# Drop all entries where 'value' < 20 (considered errors)\n",
    "df_filtered_flow = df_filtered_flow[df_filtered_flow['value'] >= 20]\n",
    "\n",
    "# Compute statistics\n",
    "mean_val = df_filtered_flow['value'].mean()\n",
    "p10 = df_filtered_flow['value'].quantile(0.10)\n",
    "p90 = df_filtered_flow['value'].quantile(0.90)\n",
    "\n",
    "# Normalize\n",
    "p10_norm = p10 / mean_val\n",
    "mean_norm = 1.0  # mean / mean\n",
    "p90_norm = p90 / mean_val\n",
    "\n",
    "# Plot histogram\n",
    "plt.figure(figsize=(8, 5))\n",
    "plt.hist(df_filtered_flow['value'], bins=50, color='royalblue', alpha=0.7)\n",
    "\n",
    "# Add vertical lines for mean, 10th and 90th percentiles\n",
    "plt.axvline(mean_val, color='red', linestyle='--', linewidth=2, label=f'Mean (1.00×)')\n",
    "plt.axvline(p10, color='green', linestyle=':', linewidth=2, label=f'10th Percentile ({p10_norm:.2f}×)')\n",
    "plt.axvline(p90, color='orange', linestyle=':', linewidth=2, label=f'90th Percentile ({p90_norm:.2f}×)')\n",
    "\n",
    "# Labels and formatting\n",
    "plt.xlabel('Flow (LPS)')\n",
    "plt.ylabel('Frequency')\n",
    "plt.title('Flow Distribution from Rjúpnasalir (2024)')\n",
    "plt.legend()\n",
    "plt.grid(True)\n",
    "plt.tight_layout()\n",
    "plt.show()\n"
   ]
  },
  {
   "cell_type": "markdown",
   "metadata": {},
   "source": [
    "## Prentum specific dag"
   ]
  },
  {
   "cell_type": "code",
   "execution_count": null,
   "metadata": {},
   "outputs": [],
   "source": [
    "# Convert 'start_time' to datetime format\n",
    "df_flow['start_time'] = pd.to_datetime(df_flow['start_time'], errors='coerce')\n",
    "\n",
    "# Filter for a specific day (e.g., \"2024-03-10\")\n",
    "specific_day = \"2024-11-03\"\n",
    "df_specific_day = df_flow[df_flow['start_time'].dt.date == pd.to_datetime(specific_day).date()]\n",
    "\n",
    "# Print the filtered data for that specific day\n",
    "print(df_specific_day)\n"
   ]
  },
  {
   "cell_type": "code",
   "execution_count": null,
   "metadata": {},
   "outputs": [],
   "source": [
    "df_specific_day.set_index('start_time', inplace=True)\n",
    "df_specific_day = df_specific_day.sort_index(ascending=True)\n",
    "avg_flow = df_specific_day['value'].mean()  # Sum of all flow for that day\n",
    "df_specific_day['demand_pattern'] = df_specific_day['value'] / avg_flow  # Normalized demand pattern\n",
    "df_specific_day"
   ]
  },
  {
   "cell_type": "code",
   "execution_count": null,
   "metadata": {},
   "outputs": [],
   "source": [
    "# Plot the value and demand_pattern columns from df_specific_day\n",
    "plt.figure(figsize=(10, 6))\n",
    "\n",
    "# Plot the flow value\n",
    "plt.plot(df_specific_day.index, df_specific_day['value'], label='Flow (m³/h)', color='tab:blue', marker='o')\n",
    "\n",
    "# Customize the plot\n",
    "plt.xlabel('Time')\n",
    "plt.ylabel('Value')\n",
    "plt.title('Flow for 2024-10-03')\n",
    "plt.xticks(rotation=45)\n",
    "\n",
    "# Enable minor ticks for finer grid resolution\n",
    "plt.minorticks_on()\n",
    "\n",
    "# Apply finer grid resolution\n",
    "plt.grid(which='both', linestyle='--', linewidth=0.5, alpha=0.7)\n",
    "\n",
    "# Add a legend\n",
    "plt.legend()\n",
    "\n",
    "# Optimize layout\n",
    "plt.tight_layout()\n",
    "\n",
    "# Show the plot\n",
    "plt.show()\n"
   ]
  },
  {
   "cell_type": "code",
   "execution_count": null,
   "metadata": {},
   "outputs": [],
   "source": [
    "# Convert 'start_time' to datetime format\n",
    "df_pressure['start_time'] = pd.to_datetime(df_pressure['start_time'], errors='coerce')\n",
    "\n",
    "# Filter for a specific day (e.g., \"2024-03-10\")\n",
    "specific_day = \"2024-11-03\"\n",
    "df_specific_day = df_pressure[df_pressure['start_time'].dt.date == pd.to_datetime(specific_day).date()]\n",
    "\n",
    "# Print the filtered data for that specific day\n",
    "print(df_specific_day)\n"
   ]
  },
  {
   "cell_type": "code",
   "execution_count": null,
   "metadata": {},
   "outputs": [],
   "source": [
    "df_specific_day.set_index('start_time', inplace=True)\n",
    "df_specific_day = df_specific_day.sort_index(ascending=True)\n",
    "avg_press = df_specific_day['value'].mean()  # Sum of all flow for that day\n",
    "df_specific_day['demand_pattern'] = df_specific_day['value'] / avg_press  # Normalized demand pattern\n",
    "df_specific_day"
   ]
  },
  {
   "cell_type": "code",
   "execution_count": null,
   "metadata": {},
   "outputs": [],
   "source": [
    "# Plot the value and demand_pattern columns from df_specific_day\n",
    "plt.figure(figsize=(10, 6))\n",
    "\n",
    "# Plot the flow value\n",
    "plt.plot(df_specific_day.index, df_specific_day['value'], label='Flow (m3/h)', color='tab:blue', marker='o')\n",
    "\n",
    "# Customize the plot\n",
    "plt.xlabel('Time')\n",
    "plt.ylabel('Value')\n",
    "plt.title('Flow and Demand Pattern for 2024-10-03')\n",
    "plt.xticks(rotation=45)\n",
    "plt.grid(True)\n",
    "plt.ylim([7.7 ,7.9])\n",
    "\n",
    "# Add a legend\n",
    "plt.legend()\n",
    "\n",
    "# Show the plot\n",
    "plt.tight_layout()\n",
    "plt.show()"
   ]
  },
  {
   "cell_type": "code",
   "execution_count": null,
   "metadata": {},
   "outputs": [],
   "source": []
  }
 ],
 "metadata": {
  "kernelspec": {
   "display_name": "pfas",
   "language": "python",
   "name": "python3"
  },
  "language_info": {
   "codemirror_mode": {
    "name": "ipython",
    "version": 3
   },
   "file_extension": ".py",
   "mimetype": "text/x-python",
   "name": "python",
   "nbconvert_exporter": "python",
   "pygments_lexer": "ipython3",
   "version": "3.10.14"
  }
 },
 "nbformat": 4,
 "nbformat_minor": 2
}
